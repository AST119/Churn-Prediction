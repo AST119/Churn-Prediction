{
 "cells": [
  {
   "cell_type": "code",
   "execution_count": 1,
   "id": "674d44cd",
   "metadata": {
    "_cell_guid": "b1076dfc-b9ad-4769-8c92-a6c4dae69d19",
    "_uuid": "8f2839f25d086af736a60e9eeb907d3b93b6e0e5",
    "execution": {
     "iopub.execute_input": "2025-06-16T05:04:13.083633Z",
     "iopub.status.busy": "2025-06-16T05:04:13.083359Z",
     "iopub.status.idle": "2025-06-16T05:04:14.527764Z",
     "shell.execute_reply": "2025-06-16T05:04:14.526761Z"
    },
    "papermill": {
     "duration": 1.451496,
     "end_time": "2025-06-16T05:04:14.529137",
     "exception": false,
     "start_time": "2025-06-16T05:04:13.077641",
     "status": "completed"
    },
    "tags": []
   },
   "outputs": [
    {
     "name": "stdout",
     "output_type": "stream",
     "text": [
      "/kaggle/input/credit-card-customer-churn-prediction/Churn_Modelling.csv\n"
     ]
    }
   ],
   "source": [
    "# This Python 3 environment comes with many helpful analytics libraries installed\n",
    "# It is defined by the kaggle/python Docker image: https://github.com/kaggle/docker-python\n",
    "# For example, here's several helpful packages to load\n",
    "\n",
    "import numpy as np # linear algebra\n",
    "import pandas as pd # data processing, CSV file I/O (e.g. pd.read_csv)\n",
    "\n",
    "# Input data files are available in the read-only \"../input/\" directory\n",
    "# For example, running this (by clicking run or pressing Shift+Enter) will list all files under the input directory\n",
    "\n",
    "import os\n",
    "for dirname, _, filenames in os.walk('/kaggle/input'):\n",
    "    for filename in filenames:\n",
    "        print(os.path.join(dirname, filename))\n",
    "\n",
    "# You can write up to 20GB to the current directory (/kaggle/working/) that gets preserved as output when you create a version using \"Save & Run All\" \n",
    "# You can also write temporary files to /kaggle/temp/, but they won't be saved outside of the current session"
   ]
  },
  {
   "cell_type": "code",
   "execution_count": 2,
   "id": "71b0d5bf",
   "metadata": {
    "execution": {
     "iopub.execute_input": "2025-06-16T05:04:14.540269Z",
     "iopub.status.busy": "2025-06-16T05:04:14.539950Z",
     "iopub.status.idle": "2025-06-16T05:04:14.580989Z",
     "shell.execute_reply": "2025-06-16T05:04:14.580398Z"
    },
    "papermill": {
     "duration": 0.048443,
     "end_time": "2025-06-16T05:04:14.582251",
     "exception": false,
     "start_time": "2025-06-16T05:04:14.533808",
     "status": "completed"
    },
    "tags": []
   },
   "outputs": [],
   "source": [
    "df=pd.read_csv(\"/kaggle/input/credit-card-customer-churn-prediction/Churn_Modelling.csv\")"
   ]
  },
  {
   "cell_type": "code",
   "execution_count": 3,
   "id": "2938ce0b",
   "metadata": {
    "execution": {
     "iopub.execute_input": "2025-06-16T05:04:14.591334Z",
     "iopub.status.busy": "2025-06-16T05:04:14.591121Z",
     "iopub.status.idle": "2025-06-16T05:04:14.612013Z",
     "shell.execute_reply": "2025-06-16T05:04:14.611342Z"
    },
    "papermill": {
     "duration": 0.026692,
     "end_time": "2025-06-16T05:04:14.613168",
     "exception": false,
     "start_time": "2025-06-16T05:04:14.586476",
     "status": "completed"
    },
    "tags": []
   },
   "outputs": [
    {
     "data": {
      "text/html": [
       "<div>\n",
       "<style scoped>\n",
       "    .dataframe tbody tr th:only-of-type {\n",
       "        vertical-align: middle;\n",
       "    }\n",
       "\n",
       "    .dataframe tbody tr th {\n",
       "        vertical-align: top;\n",
       "    }\n",
       "\n",
       "    .dataframe thead th {\n",
       "        text-align: right;\n",
       "    }\n",
       "</style>\n",
       "<table border=\"1\" class=\"dataframe\">\n",
       "  <thead>\n",
       "    <tr style=\"text-align: right;\">\n",
       "      <th></th>\n",
       "      <th>RowNumber</th>\n",
       "      <th>CustomerId</th>\n",
       "      <th>Surname</th>\n",
       "      <th>CreditScore</th>\n",
       "      <th>Geography</th>\n",
       "      <th>Gender</th>\n",
       "      <th>Age</th>\n",
       "      <th>Tenure</th>\n",
       "      <th>Balance</th>\n",
       "      <th>NumOfProducts</th>\n",
       "      <th>HasCrCard</th>\n",
       "      <th>IsActiveMember</th>\n",
       "      <th>EstimatedSalary</th>\n",
       "      <th>Exited</th>\n",
       "    </tr>\n",
       "  </thead>\n",
       "  <tbody>\n",
       "    <tr>\n",
       "      <th>0</th>\n",
       "      <td>1</td>\n",
       "      <td>15634602</td>\n",
       "      <td>Hargrave</td>\n",
       "      <td>619</td>\n",
       "      <td>France</td>\n",
       "      <td>Female</td>\n",
       "      <td>42</td>\n",
       "      <td>2</td>\n",
       "      <td>0.00</td>\n",
       "      <td>1</td>\n",
       "      <td>1</td>\n",
       "      <td>1</td>\n",
       "      <td>101348.88</td>\n",
       "      <td>1</td>\n",
       "    </tr>\n",
       "    <tr>\n",
       "      <th>1</th>\n",
       "      <td>2</td>\n",
       "      <td>15647311</td>\n",
       "      <td>Hill</td>\n",
       "      <td>608</td>\n",
       "      <td>Spain</td>\n",
       "      <td>Female</td>\n",
       "      <td>41</td>\n",
       "      <td>1</td>\n",
       "      <td>83807.86</td>\n",
       "      <td>1</td>\n",
       "      <td>0</td>\n",
       "      <td>1</td>\n",
       "      <td>112542.58</td>\n",
       "      <td>0</td>\n",
       "    </tr>\n",
       "    <tr>\n",
       "      <th>2</th>\n",
       "      <td>3</td>\n",
       "      <td>15619304</td>\n",
       "      <td>Onio</td>\n",
       "      <td>502</td>\n",
       "      <td>France</td>\n",
       "      <td>Female</td>\n",
       "      <td>42</td>\n",
       "      <td>8</td>\n",
       "      <td>159660.80</td>\n",
       "      <td>3</td>\n",
       "      <td>1</td>\n",
       "      <td>0</td>\n",
       "      <td>113931.57</td>\n",
       "      <td>1</td>\n",
       "    </tr>\n",
       "    <tr>\n",
       "      <th>3</th>\n",
       "      <td>4</td>\n",
       "      <td>15701354</td>\n",
       "      <td>Boni</td>\n",
       "      <td>699</td>\n",
       "      <td>France</td>\n",
       "      <td>Female</td>\n",
       "      <td>39</td>\n",
       "      <td>1</td>\n",
       "      <td>0.00</td>\n",
       "      <td>2</td>\n",
       "      <td>0</td>\n",
       "      <td>0</td>\n",
       "      <td>93826.63</td>\n",
       "      <td>0</td>\n",
       "    </tr>\n",
       "    <tr>\n",
       "      <th>4</th>\n",
       "      <td>5</td>\n",
       "      <td>15737888</td>\n",
       "      <td>Mitchell</td>\n",
       "      <td>850</td>\n",
       "      <td>Spain</td>\n",
       "      <td>Female</td>\n",
       "      <td>43</td>\n",
       "      <td>2</td>\n",
       "      <td>125510.82</td>\n",
       "      <td>1</td>\n",
       "      <td>1</td>\n",
       "      <td>1</td>\n",
       "      <td>79084.10</td>\n",
       "      <td>0</td>\n",
       "    </tr>\n",
       "  </tbody>\n",
       "</table>\n",
       "</div>"
      ],
      "text/plain": [
       "   RowNumber  CustomerId   Surname  CreditScore Geography  Gender  Age  \\\n",
       "0          1    15634602  Hargrave          619    France  Female   42   \n",
       "1          2    15647311      Hill          608     Spain  Female   41   \n",
       "2          3    15619304      Onio          502    France  Female   42   \n",
       "3          4    15701354      Boni          699    France  Female   39   \n",
       "4          5    15737888  Mitchell          850     Spain  Female   43   \n",
       "\n",
       "   Tenure    Balance  NumOfProducts  HasCrCard  IsActiveMember  \\\n",
       "0       2       0.00              1          1               1   \n",
       "1       1   83807.86              1          0               1   \n",
       "2       8  159660.80              3          1               0   \n",
       "3       1       0.00              2          0               0   \n",
       "4       2  125510.82              1          1               1   \n",
       "\n",
       "   EstimatedSalary  Exited  \n",
       "0        101348.88       1  \n",
       "1        112542.58       0  \n",
       "2        113931.57       1  \n",
       "3         93826.63       0  \n",
       "4         79084.10       0  "
      ]
     },
     "execution_count": 3,
     "metadata": {},
     "output_type": "execute_result"
    }
   ],
   "source": [
    "df.head()\n"
   ]
  },
  {
   "cell_type": "code",
   "execution_count": 4,
   "id": "6cb67b1f",
   "metadata": {
    "execution": {
     "iopub.execute_input": "2025-06-16T05:04:14.622627Z",
     "iopub.status.busy": "2025-06-16T05:04:14.622001Z",
     "iopub.status.idle": "2025-06-16T05:04:14.626094Z",
     "shell.execute_reply": "2025-06-16T05:04:14.625569Z"
    },
    "papermill": {
     "duration": 0.00977,
     "end_time": "2025-06-16T05:04:14.627115",
     "exception": false,
     "start_time": "2025-06-16T05:04:14.617345",
     "status": "completed"
    },
    "tags": []
   },
   "outputs": [
    {
     "data": {
      "text/plain": [
       "(10000, 14)"
      ]
     },
     "execution_count": 4,
     "metadata": {},
     "output_type": "execute_result"
    }
   ],
   "source": [
    "df.shape"
   ]
  },
  {
   "cell_type": "code",
   "execution_count": 5,
   "id": "0246d8a6",
   "metadata": {
    "execution": {
     "iopub.execute_input": "2025-06-16T05:04:14.636465Z",
     "iopub.status.busy": "2025-06-16T05:04:14.635970Z",
     "iopub.status.idle": "2025-06-16T05:04:14.659797Z",
     "shell.execute_reply": "2025-06-16T05:04:14.658798Z"
    },
    "papermill": {
     "duration": 0.02975,
     "end_time": "2025-06-16T05:04:14.661145",
     "exception": false,
     "start_time": "2025-06-16T05:04:14.631395",
     "status": "completed"
    },
    "tags": []
   },
   "outputs": [
    {
     "name": "stdout",
     "output_type": "stream",
     "text": [
      "<class 'pandas.core.frame.DataFrame'>\n",
      "RangeIndex: 10000 entries, 0 to 9999\n",
      "Data columns (total 14 columns):\n",
      " #   Column           Non-Null Count  Dtype  \n",
      "---  ------           --------------  -----  \n",
      " 0   RowNumber        10000 non-null  int64  \n",
      " 1   CustomerId       10000 non-null  int64  \n",
      " 2   Surname          10000 non-null  object \n",
      " 3   CreditScore      10000 non-null  int64  \n",
      " 4   Geography        10000 non-null  object \n",
      " 5   Gender           10000 non-null  object \n",
      " 6   Age              10000 non-null  int64  \n",
      " 7   Tenure           10000 non-null  int64  \n",
      " 8   Balance          10000 non-null  float64\n",
      " 9   NumOfProducts    10000 non-null  int64  \n",
      " 10  HasCrCard        10000 non-null  int64  \n",
      " 11  IsActiveMember   10000 non-null  int64  \n",
      " 12  EstimatedSalary  10000 non-null  float64\n",
      " 13  Exited           10000 non-null  int64  \n",
      "dtypes: float64(2), int64(9), object(3)\n",
      "memory usage: 1.1+ MB\n"
     ]
    }
   ],
   "source": [
    "df.info()"
   ]
  },
  {
   "cell_type": "code",
   "execution_count": 6,
   "id": "d0ae5983",
   "metadata": {
    "execution": {
     "iopub.execute_input": "2025-06-16T05:04:14.674862Z",
     "iopub.status.busy": "2025-06-16T05:04:14.674486Z",
     "iopub.status.idle": "2025-06-16T05:04:14.687847Z",
     "shell.execute_reply": "2025-06-16T05:04:14.686952Z"
    },
    "papermill": {
     "duration": 0.023241,
     "end_time": "2025-06-16T05:04:14.689553",
     "exception": false,
     "start_time": "2025-06-16T05:04:14.666312",
     "status": "completed"
    },
    "tags": []
   },
   "outputs": [
    {
     "data": {
      "text/plain": [
       "0"
      ]
     },
     "execution_count": 6,
     "metadata": {},
     "output_type": "execute_result"
    }
   ],
   "source": [
    "df.duplicated().sum()"
   ]
  },
  {
   "cell_type": "code",
   "execution_count": 7,
   "id": "2977f8c2",
   "metadata": {
    "execution": {
     "iopub.execute_input": "2025-06-16T05:04:14.705504Z",
     "iopub.status.busy": "2025-06-16T05:04:14.705155Z",
     "iopub.status.idle": "2025-06-16T05:04:14.712558Z",
     "shell.execute_reply": "2025-06-16T05:04:14.711209Z"
    },
    "papermill": {
     "duration": 0.016443,
     "end_time": "2025-06-16T05:04:14.714203",
     "exception": false,
     "start_time": "2025-06-16T05:04:14.697760",
     "status": "completed"
    },
    "tags": []
   },
   "outputs": [
    {
     "data": {
      "text/plain": [
       "Exited\n",
       "0    7963\n",
       "1    2037\n",
       "Name: count, dtype: int64"
      ]
     },
     "execution_count": 7,
     "metadata": {},
     "output_type": "execute_result"
    }
   ],
   "source": [
    "df['Exited'].value_counts()"
   ]
  },
  {
   "cell_type": "code",
   "execution_count": 8,
   "id": "8867929f",
   "metadata": {
    "execution": {
     "iopub.execute_input": "2025-06-16T05:04:14.731328Z",
     "iopub.status.busy": "2025-06-16T05:04:14.730990Z",
     "iopub.status.idle": "2025-06-16T05:04:14.738845Z",
     "shell.execute_reply": "2025-06-16T05:04:14.737886Z"
    },
    "papermill": {
     "duration": 0.017785,
     "end_time": "2025-06-16T05:04:14.740048",
     "exception": false,
     "start_time": "2025-06-16T05:04:14.722263",
     "status": "completed"
    },
    "tags": []
   },
   "outputs": [
    {
     "data": {
      "text/plain": [
       "Geography\n",
       "France     5014\n",
       "Germany    2509\n",
       "Spain      2477\n",
       "Name: count, dtype: int64"
      ]
     },
     "execution_count": 8,
     "metadata": {},
     "output_type": "execute_result"
    }
   ],
   "source": [
    "df['Geography'].value_counts()"
   ]
  },
  {
   "cell_type": "code",
   "execution_count": 9,
   "id": "83f2ce5b",
   "metadata": {
    "execution": {
     "iopub.execute_input": "2025-06-16T05:04:14.754504Z",
     "iopub.status.busy": "2025-06-16T05:04:14.754318Z",
     "iopub.status.idle": "2025-06-16T05:04:14.759716Z",
     "shell.execute_reply": "2025-06-16T05:04:14.759182Z"
    },
    "papermill": {
     "duration": 0.014006,
     "end_time": "2025-06-16T05:04:14.760746",
     "exception": false,
     "start_time": "2025-06-16T05:04:14.746740",
     "status": "completed"
    },
    "tags": []
   },
   "outputs": [
    {
     "data": {
      "text/plain": [
       "Gender\n",
       "Male      5457\n",
       "Female    4543\n",
       "Name: count, dtype: int64"
      ]
     },
     "execution_count": 9,
     "metadata": {},
     "output_type": "execute_result"
    }
   ],
   "source": [
    "df['Gender'].value_counts()"
   ]
  },
  {
   "cell_type": "code",
   "execution_count": 10,
   "id": "06737cb2",
   "metadata": {
    "execution": {
     "iopub.execute_input": "2025-06-16T05:04:14.770963Z",
     "iopub.status.busy": "2025-06-16T05:04:14.770557Z",
     "iopub.status.idle": "2025-06-16T05:04:14.777152Z",
     "shell.execute_reply": "2025-06-16T05:04:14.776637Z"
    },
    "papermill": {
     "duration": 0.012545,
     "end_time": "2025-06-16T05:04:14.778174",
     "exception": false,
     "start_time": "2025-06-16T05:04:14.765629",
     "status": "completed"
    },
    "tags": []
   },
   "outputs": [],
   "source": [
    "df.drop(columns=['RowNumber','CustomerId','Surname'],inplace=True)"
   ]
  },
  {
   "cell_type": "code",
   "execution_count": 11,
   "id": "946f011e",
   "metadata": {
    "execution": {
     "iopub.execute_input": "2025-06-16T05:04:14.787490Z",
     "iopub.status.busy": "2025-06-16T05:04:14.787287Z",
     "iopub.status.idle": "2025-06-16T05:04:14.795862Z",
     "shell.execute_reply": "2025-06-16T05:04:14.795360Z"
    },
    "papermill": {
     "duration": 0.014368,
     "end_time": "2025-06-16T05:04:14.796896",
     "exception": false,
     "start_time": "2025-06-16T05:04:14.782528",
     "status": "completed"
    },
    "tags": []
   },
   "outputs": [
    {
     "data": {
      "text/html": [
       "<div>\n",
       "<style scoped>\n",
       "    .dataframe tbody tr th:only-of-type {\n",
       "        vertical-align: middle;\n",
       "    }\n",
       "\n",
       "    .dataframe tbody tr th {\n",
       "        vertical-align: top;\n",
       "    }\n",
       "\n",
       "    .dataframe thead th {\n",
       "        text-align: right;\n",
       "    }\n",
       "</style>\n",
       "<table border=\"1\" class=\"dataframe\">\n",
       "  <thead>\n",
       "    <tr style=\"text-align: right;\">\n",
       "      <th></th>\n",
       "      <th>CreditScore</th>\n",
       "      <th>Geography</th>\n",
       "      <th>Gender</th>\n",
       "      <th>Age</th>\n",
       "      <th>Tenure</th>\n",
       "      <th>Balance</th>\n",
       "      <th>NumOfProducts</th>\n",
       "      <th>HasCrCard</th>\n",
       "      <th>IsActiveMember</th>\n",
       "      <th>EstimatedSalary</th>\n",
       "      <th>Exited</th>\n",
       "    </tr>\n",
       "  </thead>\n",
       "  <tbody>\n",
       "    <tr>\n",
       "      <th>0</th>\n",
       "      <td>619</td>\n",
       "      <td>France</td>\n",
       "      <td>Female</td>\n",
       "      <td>42</td>\n",
       "      <td>2</td>\n",
       "      <td>0.00</td>\n",
       "      <td>1</td>\n",
       "      <td>1</td>\n",
       "      <td>1</td>\n",
       "      <td>101348.88</td>\n",
       "      <td>1</td>\n",
       "    </tr>\n",
       "    <tr>\n",
       "      <th>1</th>\n",
       "      <td>608</td>\n",
       "      <td>Spain</td>\n",
       "      <td>Female</td>\n",
       "      <td>41</td>\n",
       "      <td>1</td>\n",
       "      <td>83807.86</td>\n",
       "      <td>1</td>\n",
       "      <td>0</td>\n",
       "      <td>1</td>\n",
       "      <td>112542.58</td>\n",
       "      <td>0</td>\n",
       "    </tr>\n",
       "    <tr>\n",
       "      <th>2</th>\n",
       "      <td>502</td>\n",
       "      <td>France</td>\n",
       "      <td>Female</td>\n",
       "      <td>42</td>\n",
       "      <td>8</td>\n",
       "      <td>159660.80</td>\n",
       "      <td>3</td>\n",
       "      <td>1</td>\n",
       "      <td>0</td>\n",
       "      <td>113931.57</td>\n",
       "      <td>1</td>\n",
       "    </tr>\n",
       "    <tr>\n",
       "      <th>3</th>\n",
       "      <td>699</td>\n",
       "      <td>France</td>\n",
       "      <td>Female</td>\n",
       "      <td>39</td>\n",
       "      <td>1</td>\n",
       "      <td>0.00</td>\n",
       "      <td>2</td>\n",
       "      <td>0</td>\n",
       "      <td>0</td>\n",
       "      <td>93826.63</td>\n",
       "      <td>0</td>\n",
       "    </tr>\n",
       "    <tr>\n",
       "      <th>4</th>\n",
       "      <td>850</td>\n",
       "      <td>Spain</td>\n",
       "      <td>Female</td>\n",
       "      <td>43</td>\n",
       "      <td>2</td>\n",
       "      <td>125510.82</td>\n",
       "      <td>1</td>\n",
       "      <td>1</td>\n",
       "      <td>1</td>\n",
       "      <td>79084.10</td>\n",
       "      <td>0</td>\n",
       "    </tr>\n",
       "  </tbody>\n",
       "</table>\n",
       "</div>"
      ],
      "text/plain": [
       "   CreditScore Geography  Gender  Age  Tenure    Balance  NumOfProducts  \\\n",
       "0          619    France  Female   42       2       0.00              1   \n",
       "1          608     Spain  Female   41       1   83807.86              1   \n",
       "2          502    France  Female   42       8  159660.80              3   \n",
       "3          699    France  Female   39       1       0.00              2   \n",
       "4          850     Spain  Female   43       2  125510.82              1   \n",
       "\n",
       "   HasCrCard  IsActiveMember  EstimatedSalary  Exited  \n",
       "0          1               1        101348.88       1  \n",
       "1          0               1        112542.58       0  \n",
       "2          1               0        113931.57       1  \n",
       "3          0               0         93826.63       0  \n",
       "4          1               1         79084.10       0  "
      ]
     },
     "execution_count": 11,
     "metadata": {},
     "output_type": "execute_result"
    }
   ],
   "source": [
    "df.head()"
   ]
  },
  {
   "cell_type": "code",
   "execution_count": 12,
   "id": "4fbcd0dc",
   "metadata": {
    "execution": {
     "iopub.execute_input": "2025-06-16T05:04:14.807068Z",
     "iopub.status.busy": "2025-06-16T05:04:14.806700Z",
     "iopub.status.idle": "2025-06-16T05:04:14.815034Z",
     "shell.execute_reply": "2025-06-16T05:04:14.814380Z"
    },
    "papermill": {
     "duration": 0.014409,
     "end_time": "2025-06-16T05:04:14.816124",
     "exception": false,
     "start_time": "2025-06-16T05:04:14.801715",
     "status": "completed"
    },
    "tags": []
   },
   "outputs": [],
   "source": [
    "df=pd.get_dummies(df,columns=['Geography','Gender'],drop_first=True)"
   ]
  },
  {
   "cell_type": "code",
   "execution_count": 13,
   "id": "6e0c39cb",
   "metadata": {
    "execution": {
     "iopub.execute_input": "2025-06-16T05:04:14.826466Z",
     "iopub.status.busy": "2025-06-16T05:04:14.826238Z",
     "iopub.status.idle": "2025-06-16T05:04:14.842407Z",
     "shell.execute_reply": "2025-06-16T05:04:14.841866Z"
    },
    "papermill": {
     "duration": 0.022686,
     "end_time": "2025-06-16T05:04:14.843597",
     "exception": false,
     "start_time": "2025-06-16T05:04:14.820911",
     "status": "completed"
    },
    "tags": []
   },
   "outputs": [
    {
     "data": {
      "text/html": [
       "<div>\n",
       "<style scoped>\n",
       "    .dataframe tbody tr th:only-of-type {\n",
       "        vertical-align: middle;\n",
       "    }\n",
       "\n",
       "    .dataframe tbody tr th {\n",
       "        vertical-align: top;\n",
       "    }\n",
       "\n",
       "    .dataframe thead th {\n",
       "        text-align: right;\n",
       "    }\n",
       "</style>\n",
       "<table border=\"1\" class=\"dataframe\">\n",
       "  <thead>\n",
       "    <tr style=\"text-align: right;\">\n",
       "      <th></th>\n",
       "      <th>CreditScore</th>\n",
       "      <th>Age</th>\n",
       "      <th>Tenure</th>\n",
       "      <th>Balance</th>\n",
       "      <th>NumOfProducts</th>\n",
       "      <th>HasCrCard</th>\n",
       "      <th>IsActiveMember</th>\n",
       "      <th>EstimatedSalary</th>\n",
       "      <th>Exited</th>\n",
       "      <th>Geography_Germany</th>\n",
       "      <th>Geography_Spain</th>\n",
       "      <th>Gender_Male</th>\n",
       "    </tr>\n",
       "  </thead>\n",
       "  <tbody>\n",
       "    <tr>\n",
       "      <th>0</th>\n",
       "      <td>619</td>\n",
       "      <td>42</td>\n",
       "      <td>2</td>\n",
       "      <td>0.00</td>\n",
       "      <td>1</td>\n",
       "      <td>1</td>\n",
       "      <td>1</td>\n",
       "      <td>101348.88</td>\n",
       "      <td>1</td>\n",
       "      <td>False</td>\n",
       "      <td>False</td>\n",
       "      <td>False</td>\n",
       "    </tr>\n",
       "    <tr>\n",
       "      <th>1</th>\n",
       "      <td>608</td>\n",
       "      <td>41</td>\n",
       "      <td>1</td>\n",
       "      <td>83807.86</td>\n",
       "      <td>1</td>\n",
       "      <td>0</td>\n",
       "      <td>1</td>\n",
       "      <td>112542.58</td>\n",
       "      <td>0</td>\n",
       "      <td>False</td>\n",
       "      <td>True</td>\n",
       "      <td>False</td>\n",
       "    </tr>\n",
       "    <tr>\n",
       "      <th>2</th>\n",
       "      <td>502</td>\n",
       "      <td>42</td>\n",
       "      <td>8</td>\n",
       "      <td>159660.80</td>\n",
       "      <td>3</td>\n",
       "      <td>1</td>\n",
       "      <td>0</td>\n",
       "      <td>113931.57</td>\n",
       "      <td>1</td>\n",
       "      <td>False</td>\n",
       "      <td>False</td>\n",
       "      <td>False</td>\n",
       "    </tr>\n",
       "    <tr>\n",
       "      <th>3</th>\n",
       "      <td>699</td>\n",
       "      <td>39</td>\n",
       "      <td>1</td>\n",
       "      <td>0.00</td>\n",
       "      <td>2</td>\n",
       "      <td>0</td>\n",
       "      <td>0</td>\n",
       "      <td>93826.63</td>\n",
       "      <td>0</td>\n",
       "      <td>False</td>\n",
       "      <td>False</td>\n",
       "      <td>False</td>\n",
       "    </tr>\n",
       "    <tr>\n",
       "      <th>4</th>\n",
       "      <td>850</td>\n",
       "      <td>43</td>\n",
       "      <td>2</td>\n",
       "      <td>125510.82</td>\n",
       "      <td>1</td>\n",
       "      <td>1</td>\n",
       "      <td>1</td>\n",
       "      <td>79084.10</td>\n",
       "      <td>0</td>\n",
       "      <td>False</td>\n",
       "      <td>True</td>\n",
       "      <td>False</td>\n",
       "    </tr>\n",
       "    <tr>\n",
       "      <th>...</th>\n",
       "      <td>...</td>\n",
       "      <td>...</td>\n",
       "      <td>...</td>\n",
       "      <td>...</td>\n",
       "      <td>...</td>\n",
       "      <td>...</td>\n",
       "      <td>...</td>\n",
       "      <td>...</td>\n",
       "      <td>...</td>\n",
       "      <td>...</td>\n",
       "      <td>...</td>\n",
       "      <td>...</td>\n",
       "    </tr>\n",
       "    <tr>\n",
       "      <th>9995</th>\n",
       "      <td>771</td>\n",
       "      <td>39</td>\n",
       "      <td>5</td>\n",
       "      <td>0.00</td>\n",
       "      <td>2</td>\n",
       "      <td>1</td>\n",
       "      <td>0</td>\n",
       "      <td>96270.64</td>\n",
       "      <td>0</td>\n",
       "      <td>False</td>\n",
       "      <td>False</td>\n",
       "      <td>True</td>\n",
       "    </tr>\n",
       "    <tr>\n",
       "      <th>9996</th>\n",
       "      <td>516</td>\n",
       "      <td>35</td>\n",
       "      <td>10</td>\n",
       "      <td>57369.61</td>\n",
       "      <td>1</td>\n",
       "      <td>1</td>\n",
       "      <td>1</td>\n",
       "      <td>101699.77</td>\n",
       "      <td>0</td>\n",
       "      <td>False</td>\n",
       "      <td>False</td>\n",
       "      <td>True</td>\n",
       "    </tr>\n",
       "    <tr>\n",
       "      <th>9997</th>\n",
       "      <td>709</td>\n",
       "      <td>36</td>\n",
       "      <td>7</td>\n",
       "      <td>0.00</td>\n",
       "      <td>1</td>\n",
       "      <td>0</td>\n",
       "      <td>1</td>\n",
       "      <td>42085.58</td>\n",
       "      <td>1</td>\n",
       "      <td>False</td>\n",
       "      <td>False</td>\n",
       "      <td>False</td>\n",
       "    </tr>\n",
       "    <tr>\n",
       "      <th>9998</th>\n",
       "      <td>772</td>\n",
       "      <td>42</td>\n",
       "      <td>3</td>\n",
       "      <td>75075.31</td>\n",
       "      <td>2</td>\n",
       "      <td>1</td>\n",
       "      <td>0</td>\n",
       "      <td>92888.52</td>\n",
       "      <td>1</td>\n",
       "      <td>True</td>\n",
       "      <td>False</td>\n",
       "      <td>True</td>\n",
       "    </tr>\n",
       "    <tr>\n",
       "      <th>9999</th>\n",
       "      <td>792</td>\n",
       "      <td>28</td>\n",
       "      <td>4</td>\n",
       "      <td>130142.79</td>\n",
       "      <td>1</td>\n",
       "      <td>1</td>\n",
       "      <td>0</td>\n",
       "      <td>38190.78</td>\n",
       "      <td>0</td>\n",
       "      <td>False</td>\n",
       "      <td>False</td>\n",
       "      <td>False</td>\n",
       "    </tr>\n",
       "  </tbody>\n",
       "</table>\n",
       "<p>10000 rows × 12 columns</p>\n",
       "</div>"
      ],
      "text/plain": [
       "      CreditScore  Age  Tenure    Balance  NumOfProducts  HasCrCard  \\\n",
       "0             619   42       2       0.00              1          1   \n",
       "1             608   41       1   83807.86              1          0   \n",
       "2             502   42       8  159660.80              3          1   \n",
       "3             699   39       1       0.00              2          0   \n",
       "4             850   43       2  125510.82              1          1   \n",
       "...           ...  ...     ...        ...            ...        ...   \n",
       "9995          771   39       5       0.00              2          1   \n",
       "9996          516   35      10   57369.61              1          1   \n",
       "9997          709   36       7       0.00              1          0   \n",
       "9998          772   42       3   75075.31              2          1   \n",
       "9999          792   28       4  130142.79              1          1   \n",
       "\n",
       "      IsActiveMember  EstimatedSalary  Exited  Geography_Germany  \\\n",
       "0                  1        101348.88       1              False   \n",
       "1                  1        112542.58       0              False   \n",
       "2                  0        113931.57       1              False   \n",
       "3                  0         93826.63       0              False   \n",
       "4                  1         79084.10       0              False   \n",
       "...              ...              ...     ...                ...   \n",
       "9995               0         96270.64       0              False   \n",
       "9996               1        101699.77       0              False   \n",
       "9997               1         42085.58       1              False   \n",
       "9998               0         92888.52       1               True   \n",
       "9999               0         38190.78       0              False   \n",
       "\n",
       "      Geography_Spain  Gender_Male  \n",
       "0               False        False  \n",
       "1                True        False  \n",
       "2               False        False  \n",
       "3               False        False  \n",
       "4                True        False  \n",
       "...               ...          ...  \n",
       "9995            False         True  \n",
       "9996            False         True  \n",
       "9997            False        False  \n",
       "9998            False         True  \n",
       "9999            False        False  \n",
       "\n",
       "[10000 rows x 12 columns]"
      ]
     },
     "execution_count": 13,
     "metadata": {},
     "output_type": "execute_result"
    }
   ],
   "source": [
    "df"
   ]
  },
  {
   "cell_type": "code",
   "execution_count": 14,
   "id": "0a087510",
   "metadata": {
    "execution": {
     "iopub.execute_input": "2025-06-16T05:04:14.855482Z",
     "iopub.status.busy": "2025-06-16T05:04:14.855171Z",
     "iopub.status.idle": "2025-06-16T05:04:16.050376Z",
     "shell.execute_reply": "2025-06-16T05:04:16.049838Z"
    },
    "papermill": {
     "duration": 1.202574,
     "end_time": "2025-06-16T05:04:16.051639",
     "exception": false,
     "start_time": "2025-06-16T05:04:14.849065",
     "status": "completed"
    },
    "tags": []
   },
   "outputs": [],
   "source": [
    "x=df.drop(columns=['Exited'])\n",
    "y=df['Exited']\n",
    "from sklearn.model_selection import train_test_split\n",
    "xtrain,xtest,ytrain,ytest=train_test_split(x,y,test_size=0.2,random_state=1)"
   ]
  },
  {
   "cell_type": "code",
   "execution_count": 15,
   "id": "fbfc1a98",
   "metadata": {
    "execution": {
     "iopub.execute_input": "2025-06-16T05:04:16.062973Z",
     "iopub.status.busy": "2025-06-16T05:04:16.062171Z",
     "iopub.status.idle": "2025-06-16T05:04:16.066433Z",
     "shell.execute_reply": "2025-06-16T05:04:16.065939Z"
    },
    "papermill": {
     "duration": 0.010863,
     "end_time": "2025-06-16T05:04:16.067546",
     "exception": false,
     "start_time": "2025-06-16T05:04:16.056683",
     "status": "completed"
    },
    "tags": []
   },
   "outputs": [
    {
     "data": {
      "text/plain": [
       "(8000, 11)"
      ]
     },
     "execution_count": 15,
     "metadata": {},
     "output_type": "execute_result"
    }
   ],
   "source": [
    "xtrain.shape"
   ]
  },
  {
   "cell_type": "code",
   "execution_count": 16,
   "id": "ebf8bc35",
   "metadata": {
    "execution": {
     "iopub.execute_input": "2025-06-16T05:04:16.078584Z",
     "iopub.status.busy": "2025-06-16T05:04:16.077902Z",
     "iopub.status.idle": "2025-06-16T05:04:16.116647Z",
     "shell.execute_reply": "2025-06-16T05:04:16.116026Z"
    },
    "papermill": {
     "duration": 0.045463,
     "end_time": "2025-06-16T05:04:16.117898",
     "exception": false,
     "start_time": "2025-06-16T05:04:16.072435",
     "status": "completed"
    },
    "tags": []
   },
   "outputs": [],
   "source": [
    "from sklearn.preprocessing import StandardScaler\n",
    "scaler=StandardScaler()\n",
    "\n",
    "xtrain_scaled=scaler.fit_transform(xtrain)\n",
    "xtest_scaled=scaler.fit_transform(xtest)"
   ]
  },
  {
   "cell_type": "code",
   "execution_count": 17,
   "id": "8c043861",
   "metadata": {
    "execution": {
     "iopub.execute_input": "2025-06-16T05:04:16.128696Z",
     "iopub.status.busy": "2025-06-16T05:04:16.128064Z",
     "iopub.status.idle": "2025-06-16T05:04:29.053348Z",
     "shell.execute_reply": "2025-06-16T05:04:29.052755Z"
    },
    "papermill": {
     "duration": 12.931919,
     "end_time": "2025-06-16T05:04:29.054682",
     "exception": false,
     "start_time": "2025-06-16T05:04:16.122763",
     "status": "completed"
    },
    "tags": []
   },
   "outputs": [
    {
     "name": "stderr",
     "output_type": "stream",
     "text": [
      "2025-06-16 05:04:17.665195: E external/local_xla/xla/stream_executor/cuda/cuda_fft.cc:477] Unable to register cuFFT factory: Attempting to register factory for plugin cuFFT when one has already been registered\n",
      "WARNING: All log messages before absl::InitializeLog() is called are written to STDERR\n",
      "E0000 00:00:1750050257.860816      19 cuda_dnn.cc:8310] Unable to register cuDNN factory: Attempting to register factory for plugin cuDNN when one has already been registered\n",
      "E0000 00:00:1750050257.918099      19 cuda_blas.cc:1418] Unable to register cuBLAS factory: Attempting to register factory for plugin cuBLAS when one has already been registered\n"
     ]
    }
   ],
   "source": [
    "import tensorflow\n",
    "from tensorflow import keras\n",
    "from tensorflow.keras import Sequential\n",
    "from tensorflow.keras.layers import Dense"
   ]
  },
  {
   "cell_type": "code",
   "execution_count": 18,
   "id": "39a7b6aa",
   "metadata": {
    "execution": {
     "iopub.execute_input": "2025-06-16T05:04:29.066426Z",
     "iopub.status.busy": "2025-06-16T05:04:29.066041Z",
     "iopub.status.idle": "2025-06-16T05:04:31.373928Z",
     "shell.execute_reply": "2025-06-16T05:04:31.373331Z"
    },
    "papermill": {
     "duration": 2.314864,
     "end_time": "2025-06-16T05:04:31.375259",
     "exception": false,
     "start_time": "2025-06-16T05:04:29.060395",
     "status": "completed"
    },
    "tags": []
   },
   "outputs": [
    {
     "name": "stderr",
     "output_type": "stream",
     "text": [
      "/usr/local/lib/python3.11/dist-packages/keras/src/layers/core/dense.py:87: UserWarning: Do not pass an `input_shape`/`input_dim` argument to a layer. When using Sequential models, prefer using an `Input(shape)` object as the first layer in the model instead.\n",
      "  super().__init__(activity_regularizer=activity_regularizer, **kwargs)\n",
      "I0000 00:00:1750050270.157912      19 gpu_device.cc:2022] Created device /job:localhost/replica:0/task:0/device:GPU:0 with 15513 MB memory:  -> device: 0, name: Tesla P100-PCIE-16GB, pci bus id: 0000:00:04.0, compute capability: 6.0\n"
     ]
    }
   ],
   "source": [
    "model=Sequential()\n",
    "model.add(Dense(11,activation='relu',input_dim=11))\n",
    "model.add(Dense(11,activation='relu'))\n",
    "model.add(Dense(1,activation='sigmoid'))"
   ]
  },
  {
   "cell_type": "code",
   "execution_count": 19,
   "id": "7a06ce9a",
   "metadata": {
    "execution": {
     "iopub.execute_input": "2025-06-16T05:04:31.386645Z",
     "iopub.status.busy": "2025-06-16T05:04:31.386415Z",
     "iopub.status.idle": "2025-06-16T05:04:31.398444Z",
     "shell.execute_reply": "2025-06-16T05:04:31.397771Z"
    },
    "papermill": {
     "duration": 0.018862,
     "end_time": "2025-06-16T05:04:31.399664",
     "exception": false,
     "start_time": "2025-06-16T05:04:31.380802",
     "status": "completed"
    },
    "tags": []
   },
   "outputs": [
    {
     "data": {
      "text/html": [
       "<pre style=\"white-space:pre;overflow-x:auto;line-height:normal;font-family:Menlo,'DejaVu Sans Mono',consolas,'Courier New',monospace\"><span style=\"font-weight: bold\">Model: \"sequential\"</span>\n",
       "</pre>\n"
      ],
      "text/plain": [
       "\u001b[1mModel: \"sequential\"\u001b[0m\n"
      ]
     },
     "metadata": {},
     "output_type": "display_data"
    },
    {
     "data": {
      "text/html": [
       "<pre style=\"white-space:pre;overflow-x:auto;line-height:normal;font-family:Menlo,'DejaVu Sans Mono',consolas,'Courier New',monospace\">┏━━━━━━━━━━━━━━━━━━━━━━━━━━━━━━━━━━━━━━┳━━━━━━━━━━━━━━━━━━━━━━━━━━━━━┳━━━━━━━━━━━━━━━━━┓\n",
       "┃<span style=\"font-weight: bold\"> Layer (type)                         </span>┃<span style=\"font-weight: bold\"> Output Shape                </span>┃<span style=\"font-weight: bold\">         Param # </span>┃\n",
       "┡━━━━━━━━━━━━━━━━━━━━━━━━━━━━━━━━━━━━━━╇━━━━━━━━━━━━━━━━━━━━━━━━━━━━━╇━━━━━━━━━━━━━━━━━┩\n",
       "│ dense (<span style=\"color: #0087ff; text-decoration-color: #0087ff\">Dense</span>)                        │ (<span style=\"color: #00d7ff; text-decoration-color: #00d7ff\">None</span>, <span style=\"color: #00af00; text-decoration-color: #00af00\">11</span>)                  │             <span style=\"color: #00af00; text-decoration-color: #00af00\">132</span> │\n",
       "├──────────────────────────────────────┼─────────────────────────────┼─────────────────┤\n",
       "│ dense_1 (<span style=\"color: #0087ff; text-decoration-color: #0087ff\">Dense</span>)                      │ (<span style=\"color: #00d7ff; text-decoration-color: #00d7ff\">None</span>, <span style=\"color: #00af00; text-decoration-color: #00af00\">11</span>)                  │             <span style=\"color: #00af00; text-decoration-color: #00af00\">132</span> │\n",
       "├──────────────────────────────────────┼─────────────────────────────┼─────────────────┤\n",
       "│ dense_2 (<span style=\"color: #0087ff; text-decoration-color: #0087ff\">Dense</span>)                      │ (<span style=\"color: #00d7ff; text-decoration-color: #00d7ff\">None</span>, <span style=\"color: #00af00; text-decoration-color: #00af00\">1</span>)                   │              <span style=\"color: #00af00; text-decoration-color: #00af00\">12</span> │\n",
       "└──────────────────────────────────────┴─────────────────────────────┴─────────────────┘\n",
       "</pre>\n"
      ],
      "text/plain": [
       "┏━━━━━━━━━━━━━━━━━━━━━━━━━━━━━━━━━━━━━━┳━━━━━━━━━━━━━━━━━━━━━━━━━━━━━┳━━━━━━━━━━━━━━━━━┓\n",
       "┃\u001b[1m \u001b[0m\u001b[1mLayer (type)                        \u001b[0m\u001b[1m \u001b[0m┃\u001b[1m \u001b[0m\u001b[1mOutput Shape               \u001b[0m\u001b[1m \u001b[0m┃\u001b[1m \u001b[0m\u001b[1m        Param #\u001b[0m\u001b[1m \u001b[0m┃\n",
       "┡━━━━━━━━━━━━━━━━━━━━━━━━━━━━━━━━━━━━━━╇━━━━━━━━━━━━━━━━━━━━━━━━━━━━━╇━━━━━━━━━━━━━━━━━┩\n",
       "│ dense (\u001b[38;5;33mDense\u001b[0m)                        │ (\u001b[38;5;45mNone\u001b[0m, \u001b[38;5;34m11\u001b[0m)                  │             \u001b[38;5;34m132\u001b[0m │\n",
       "├──────────────────────────────────────┼─────────────────────────────┼─────────────────┤\n",
       "│ dense_1 (\u001b[38;5;33mDense\u001b[0m)                      │ (\u001b[38;5;45mNone\u001b[0m, \u001b[38;5;34m11\u001b[0m)                  │             \u001b[38;5;34m132\u001b[0m │\n",
       "├──────────────────────────────────────┼─────────────────────────────┼─────────────────┤\n",
       "│ dense_2 (\u001b[38;5;33mDense\u001b[0m)                      │ (\u001b[38;5;45mNone\u001b[0m, \u001b[38;5;34m1\u001b[0m)                   │              \u001b[38;5;34m12\u001b[0m │\n",
       "└──────────────────────────────────────┴─────────────────────────────┴─────────────────┘\n"
      ]
     },
     "metadata": {},
     "output_type": "display_data"
    },
    {
     "data": {
      "text/html": [
       "<pre style=\"white-space:pre;overflow-x:auto;line-height:normal;font-family:Menlo,'DejaVu Sans Mono',consolas,'Courier New',monospace\"><span style=\"font-weight: bold\"> Total params: </span><span style=\"color: #00af00; text-decoration-color: #00af00\">276</span> (1.08 KB)\n",
       "</pre>\n"
      ],
      "text/plain": [
       "\u001b[1m Total params: \u001b[0m\u001b[38;5;34m276\u001b[0m (1.08 KB)\n"
      ]
     },
     "metadata": {},
     "output_type": "display_data"
    },
    {
     "data": {
      "text/html": [
       "<pre style=\"white-space:pre;overflow-x:auto;line-height:normal;font-family:Menlo,'DejaVu Sans Mono',consolas,'Courier New',monospace\"><span style=\"font-weight: bold\"> Trainable params: </span><span style=\"color: #00af00; text-decoration-color: #00af00\">276</span> (1.08 KB)\n",
       "</pre>\n"
      ],
      "text/plain": [
       "\u001b[1m Trainable params: \u001b[0m\u001b[38;5;34m276\u001b[0m (1.08 KB)\n"
      ]
     },
     "metadata": {},
     "output_type": "display_data"
    },
    {
     "data": {
      "text/html": [
       "<pre style=\"white-space:pre;overflow-x:auto;line-height:normal;font-family:Menlo,'DejaVu Sans Mono',consolas,'Courier New',monospace\"><span style=\"font-weight: bold\"> Non-trainable params: </span><span style=\"color: #00af00; text-decoration-color: #00af00\">0</span> (0.00 B)\n",
       "</pre>\n"
      ],
      "text/plain": [
       "\u001b[1m Non-trainable params: \u001b[0m\u001b[38;5;34m0\u001b[0m (0.00 B)\n"
      ]
     },
     "metadata": {},
     "output_type": "display_data"
    }
   ],
   "source": [
    "model.summary()"
   ]
  },
  {
   "cell_type": "code",
   "execution_count": 20,
   "id": "ca01f325",
   "metadata": {
    "execution": {
     "iopub.execute_input": "2025-06-16T05:04:31.411405Z",
     "iopub.status.busy": "2025-06-16T05:04:31.411009Z",
     "iopub.status.idle": "2025-06-16T05:04:31.423057Z",
     "shell.execute_reply": "2025-06-16T05:04:31.422362Z"
    },
    "papermill": {
     "duration": 0.018929,
     "end_time": "2025-06-16T05:04:31.424123",
     "exception": false,
     "start_time": "2025-06-16T05:04:31.405194",
     "status": "completed"
    },
    "tags": []
   },
   "outputs": [],
   "source": [
    "model.compile(loss='binary_crossentropy',optimizer='Adam',metrics=['accuracy'])"
   ]
  },
  {
   "cell_type": "code",
   "execution_count": 21,
   "id": "72dc6e5f",
   "metadata": {
    "execution": {
     "iopub.execute_input": "2025-06-16T05:04:31.435819Z",
     "iopub.status.busy": "2025-06-16T05:04:31.435427Z",
     "iopub.status.idle": "2025-06-16T05:05:30.209065Z",
     "shell.execute_reply": "2025-06-16T05:05:30.208362Z"
    },
    "papermill": {
     "duration": 58.78072,
     "end_time": "2025-06-16T05:05:30.210411",
     "exception": false,
     "start_time": "2025-06-16T05:04:31.429691",
     "status": "completed"
    },
    "tags": []
   },
   "outputs": [
    {
     "name": "stdout",
     "output_type": "stream",
     "text": [
      "Epoch 1/100\n"
     ]
    },
    {
     "name": "stderr",
     "output_type": "stream",
     "text": [
      "WARNING: All log messages before absl::InitializeLog() is called are written to STDERR\n",
      "I0000 00:00:1750050272.742177      59 service.cc:148] XLA service 0x786be0005f70 initialized for platform CUDA (this does not guarantee that XLA will be used). Devices:\n",
      "I0000 00:00:1750050272.742810      59 service.cc:156]   StreamExecutor device (0): Tesla P100-PCIE-16GB, Compute Capability 6.0\n",
      "I0000 00:00:1750050272.977489      59 cuda_dnn.cc:529] Loaded cuDNN version 90300\n"
     ]
    },
    {
     "name": "stdout",
     "output_type": "stream",
     "text": [
      "\u001b[1m 69/200\u001b[0m \u001b[32m━━━━━━\u001b[0m\u001b[37m━━━━━━━━━━━━━━\u001b[0m \u001b[1m0s\u001b[0m 2ms/step - accuracy: 0.7717 - loss: 0.5979"
     ]
    },
    {
     "name": "stderr",
     "output_type": "stream",
     "text": [
      "I0000 00:00:1750050273.492278      59 device_compiler.h:188] Compiled cluster using XLA!  This line is logged at most once for the lifetime of the process.\n"
     ]
    },
    {
     "name": "stdout",
     "output_type": "stream",
     "text": [
      "\u001b[1m200/200\u001b[0m \u001b[32m━━━━━━━━━━━━━━━━━━━━\u001b[0m\u001b[37m\u001b[0m \u001b[1m3s\u001b[0m 6ms/step - accuracy: 0.7837 - loss: 0.5638 - val_accuracy: 0.7975 - val_loss: 0.4630\n",
      "Epoch 2/100\n",
      "\u001b[1m200/200\u001b[0m \u001b[32m━━━━━━━━━━━━━━━━━━━━\u001b[0m\u001b[37m\u001b[0m \u001b[1m1s\u001b[0m 3ms/step - accuracy: 0.7983 - loss: 0.4621 - val_accuracy: 0.7975 - val_loss: 0.4432\n",
      "Epoch 3/100\n",
      "\u001b[1m200/200\u001b[0m \u001b[32m━━━━━━━━━━━━━━━━━━━━\u001b[0m\u001b[37m\u001b[0m \u001b[1m1s\u001b[0m 3ms/step - accuracy: 0.7911 - loss: 0.4464 - val_accuracy: 0.7975 - val_loss: 0.4339\n",
      "Epoch 4/100\n",
      "\u001b[1m200/200\u001b[0m \u001b[32m━━━━━━━━━━━━━━━━━━━━\u001b[0m\u001b[37m\u001b[0m \u001b[1m1s\u001b[0m 3ms/step - accuracy: 0.8008 - loss: 0.4258 - val_accuracy: 0.8062 - val_loss: 0.4270\n",
      "Epoch 5/100\n",
      "\u001b[1m200/200\u001b[0m \u001b[32m━━━━━━━━━━━━━━━━━━━━\u001b[0m\u001b[37m\u001b[0m \u001b[1m1s\u001b[0m 3ms/step - accuracy: 0.8167 - loss: 0.4174 - val_accuracy: 0.8163 - val_loss: 0.4191\n",
      "Epoch 6/100\n",
      "\u001b[1m200/200\u001b[0m \u001b[32m━━━━━━━━━━━━━━━━━━━━\u001b[0m\u001b[37m\u001b[0m \u001b[1m1s\u001b[0m 3ms/step - accuracy: 0.8400 - loss: 0.4107 - val_accuracy: 0.8200 - val_loss: 0.4098\n",
      "Epoch 7/100\n",
      "\u001b[1m200/200\u001b[0m \u001b[32m━━━━━━━━━━━━━━━━━━━━\u001b[0m\u001b[37m\u001b[0m \u001b[1m1s\u001b[0m 3ms/step - accuracy: 0.8429 - loss: 0.3999 - val_accuracy: 0.8219 - val_loss: 0.4006\n",
      "Epoch 8/100\n",
      "\u001b[1m200/200\u001b[0m \u001b[32m━━━━━━━━━━━━━━━━━━━━\u001b[0m\u001b[37m\u001b[0m \u001b[1m1s\u001b[0m 3ms/step - accuracy: 0.8467 - loss: 0.3923 - val_accuracy: 0.8244 - val_loss: 0.3926\n",
      "Epoch 9/100\n",
      "\u001b[1m200/200\u001b[0m \u001b[32m━━━━━━━━━━━━━━━━━━━━\u001b[0m\u001b[37m\u001b[0m \u001b[1m1s\u001b[0m 3ms/step - accuracy: 0.8500 - loss: 0.3801 - val_accuracy: 0.8350 - val_loss: 0.3812\n",
      "Epoch 10/100\n",
      "\u001b[1m200/200\u001b[0m \u001b[32m━━━━━━━━━━━━━━━━━━━━\u001b[0m\u001b[37m\u001b[0m \u001b[1m1s\u001b[0m 3ms/step - accuracy: 0.8499 - loss: 0.3783 - val_accuracy: 0.8369 - val_loss: 0.3733\n",
      "Epoch 11/100\n",
      "\u001b[1m200/200\u001b[0m \u001b[32m━━━━━━━━━━━━━━━━━━━━\u001b[0m\u001b[37m\u001b[0m \u001b[1m1s\u001b[0m 3ms/step - accuracy: 0.8493 - loss: 0.3781 - val_accuracy: 0.8438 - val_loss: 0.3644\n",
      "Epoch 12/100\n",
      "\u001b[1m200/200\u001b[0m \u001b[32m━━━━━━━━━━━━━━━━━━━━\u001b[0m\u001b[37m\u001b[0m \u001b[1m1s\u001b[0m 3ms/step - accuracy: 0.8525 - loss: 0.3501 - val_accuracy: 0.8512 - val_loss: 0.3575\n",
      "Epoch 13/100\n",
      "\u001b[1m200/200\u001b[0m \u001b[32m━━━━━━━━━━━━━━━━━━━━\u001b[0m\u001b[37m\u001b[0m \u001b[1m1s\u001b[0m 3ms/step - accuracy: 0.8544 - loss: 0.3621 - val_accuracy: 0.8525 - val_loss: 0.3514\n",
      "Epoch 14/100\n",
      "\u001b[1m200/200\u001b[0m \u001b[32m━━━━━━━━━━━━━━━━━━━━\u001b[0m\u001b[37m\u001b[0m \u001b[1m1s\u001b[0m 3ms/step - accuracy: 0.8639 - loss: 0.3372 - val_accuracy: 0.8525 - val_loss: 0.3496\n",
      "Epoch 15/100\n",
      "\u001b[1m200/200\u001b[0m \u001b[32m━━━━━━━━━━━━━━━━━━━━\u001b[0m\u001b[37m\u001b[0m \u001b[1m1s\u001b[0m 3ms/step - accuracy: 0.8577 - loss: 0.3475 - val_accuracy: 0.8531 - val_loss: 0.3470\n",
      "Epoch 16/100\n",
      "\u001b[1m200/200\u001b[0m \u001b[32m━━━━━━━━━━━━━━━━━━━━\u001b[0m\u001b[37m\u001b[0m \u001b[1m1s\u001b[0m 3ms/step - accuracy: 0.8685 - loss: 0.3345 - val_accuracy: 0.8525 - val_loss: 0.3440\n",
      "Epoch 17/100\n",
      "\u001b[1m200/200\u001b[0m \u001b[32m━━━━━━━━━━━━━━━━━━━━\u001b[0m\u001b[37m\u001b[0m \u001b[1m1s\u001b[0m 3ms/step - accuracy: 0.8518 - loss: 0.3540 - val_accuracy: 0.8506 - val_loss: 0.3456\n",
      "Epoch 18/100\n",
      "\u001b[1m200/200\u001b[0m \u001b[32m━━━━━━━━━━━━━━━━━━━━\u001b[0m\u001b[37m\u001b[0m \u001b[1m1s\u001b[0m 3ms/step - accuracy: 0.8576 - loss: 0.3366 - val_accuracy: 0.8519 - val_loss: 0.3432\n",
      "Epoch 19/100\n",
      "\u001b[1m200/200\u001b[0m \u001b[32m━━━━━━━━━━━━━━━━━━━━\u001b[0m\u001b[37m\u001b[0m \u001b[1m1s\u001b[0m 3ms/step - accuracy: 0.8614 - loss: 0.3352 - val_accuracy: 0.8519 - val_loss: 0.3429\n",
      "Epoch 20/100\n",
      "\u001b[1m200/200\u001b[0m \u001b[32m━━━━━━━━━━━━━━━━━━━━\u001b[0m\u001b[37m\u001b[0m \u001b[1m1s\u001b[0m 3ms/step - accuracy: 0.8618 - loss: 0.3333 - val_accuracy: 0.8487 - val_loss: 0.3462\n",
      "Epoch 21/100\n",
      "\u001b[1m200/200\u001b[0m \u001b[32m━━━━━━━━━━━━━━━━━━━━\u001b[0m\u001b[37m\u001b[0m \u001b[1m1s\u001b[0m 3ms/step - accuracy: 0.8595 - loss: 0.3416 - val_accuracy: 0.8512 - val_loss: 0.3425\n",
      "Epoch 22/100\n",
      "\u001b[1m200/200\u001b[0m \u001b[32m━━━━━━━━━━━━━━━━━━━━\u001b[0m\u001b[37m\u001b[0m \u001b[1m1s\u001b[0m 3ms/step - accuracy: 0.8628 - loss: 0.3364 - val_accuracy: 0.8500 - val_loss: 0.3415\n",
      "Epoch 23/100\n",
      "\u001b[1m200/200\u001b[0m \u001b[32m━━━━━━━━━━━━━━━━━━━━\u001b[0m\u001b[37m\u001b[0m \u001b[1m1s\u001b[0m 3ms/step - accuracy: 0.8546 - loss: 0.3477 - val_accuracy: 0.8494 - val_loss: 0.3427\n",
      "Epoch 24/100\n",
      "\u001b[1m200/200\u001b[0m \u001b[32m━━━━━━━━━━━━━━━━━━━━\u001b[0m\u001b[37m\u001b[0m \u001b[1m1s\u001b[0m 3ms/step - accuracy: 0.8671 - loss: 0.3255 - val_accuracy: 0.8494 - val_loss: 0.3411\n",
      "Epoch 25/100\n",
      "\u001b[1m200/200\u001b[0m \u001b[32m━━━━━━━━━━━━━━━━━━━━\u001b[0m\u001b[37m\u001b[0m \u001b[1m1s\u001b[0m 3ms/step - accuracy: 0.8602 - loss: 0.3345 - val_accuracy: 0.8519 - val_loss: 0.3440\n",
      "Epoch 26/100\n",
      "\u001b[1m200/200\u001b[0m \u001b[32m━━━━━━━━━━━━━━━━━━━━\u001b[0m\u001b[37m\u001b[0m \u001b[1m1s\u001b[0m 3ms/step - accuracy: 0.8634 - loss: 0.3453 - val_accuracy: 0.8500 - val_loss: 0.3430\n",
      "Epoch 27/100\n",
      "\u001b[1m200/200\u001b[0m \u001b[32m━━━━━━━━━━━━━━━━━━━━\u001b[0m\u001b[37m\u001b[0m \u001b[1m1s\u001b[0m 3ms/step - accuracy: 0.8680 - loss: 0.3267 - val_accuracy: 0.8494 - val_loss: 0.3439\n",
      "Epoch 28/100\n",
      "\u001b[1m200/200\u001b[0m \u001b[32m━━━━━━━━━━━━━━━━━━━━\u001b[0m\u001b[37m\u001b[0m \u001b[1m1s\u001b[0m 3ms/step - accuracy: 0.8620 - loss: 0.3360 - val_accuracy: 0.8481 - val_loss: 0.3429\n",
      "Epoch 29/100\n",
      "\u001b[1m200/200\u001b[0m \u001b[32m━━━━━━━━━━━━━━━━━━━━\u001b[0m\u001b[37m\u001b[0m \u001b[1m1s\u001b[0m 3ms/step - accuracy: 0.8547 - loss: 0.3407 - val_accuracy: 0.8494 - val_loss: 0.3424\n",
      "Epoch 30/100\n",
      "\u001b[1m200/200\u001b[0m \u001b[32m━━━━━━━━━━━━━━━━━━━━\u001b[0m\u001b[37m\u001b[0m \u001b[1m1s\u001b[0m 3ms/step - accuracy: 0.8710 - loss: 0.3185 - val_accuracy: 0.8487 - val_loss: 0.3432\n",
      "Epoch 31/100\n",
      "\u001b[1m200/200\u001b[0m \u001b[32m━━━━━━━━━━━━━━━━━━━━\u001b[0m\u001b[37m\u001b[0m \u001b[1m1s\u001b[0m 3ms/step - accuracy: 0.8726 - loss: 0.3189 - val_accuracy: 0.8494 - val_loss: 0.3441\n",
      "Epoch 32/100\n",
      "\u001b[1m200/200\u001b[0m \u001b[32m━━━━━━━━━━━━━━━━━━━━\u001b[0m\u001b[37m\u001b[0m \u001b[1m1s\u001b[0m 3ms/step - accuracy: 0.8591 - loss: 0.3380 - val_accuracy: 0.8512 - val_loss: 0.3414\n",
      "Epoch 33/100\n",
      "\u001b[1m200/200\u001b[0m \u001b[32m━━━━━━━━━━━━━━━━━━━━\u001b[0m\u001b[37m\u001b[0m \u001b[1m1s\u001b[0m 3ms/step - accuracy: 0.8545 - loss: 0.3475 - val_accuracy: 0.8506 - val_loss: 0.3414\n",
      "Epoch 34/100\n",
      "\u001b[1m200/200\u001b[0m \u001b[32m━━━━━━━━━━━━━━━━━━━━\u001b[0m\u001b[37m\u001b[0m \u001b[1m1s\u001b[0m 3ms/step - accuracy: 0.8628 - loss: 0.3358 - val_accuracy: 0.8525 - val_loss: 0.3423\n",
      "Epoch 35/100\n",
      "\u001b[1m200/200\u001b[0m \u001b[32m━━━━━━━━━━━━━━━━━━━━\u001b[0m\u001b[37m\u001b[0m \u001b[1m1s\u001b[0m 3ms/step - accuracy: 0.8734 - loss: 0.3160 - val_accuracy: 0.8519 - val_loss: 0.3404\n",
      "Epoch 36/100\n",
      "\u001b[1m200/200\u001b[0m \u001b[32m━━━━━━━━━━━━━━━━━━━━\u001b[0m\u001b[37m\u001b[0m \u001b[1m1s\u001b[0m 3ms/step - accuracy: 0.8621 - loss: 0.3323 - val_accuracy: 0.8481 - val_loss: 0.3424\n",
      "Epoch 37/100\n",
      "\u001b[1m200/200\u001b[0m \u001b[32m━━━━━━━━━━━━━━━━━━━━\u001b[0m\u001b[37m\u001b[0m \u001b[1m1s\u001b[0m 3ms/step - accuracy: 0.8614 - loss: 0.3377 - val_accuracy: 0.8525 - val_loss: 0.3419\n",
      "Epoch 38/100\n",
      "\u001b[1m200/200\u001b[0m \u001b[32m━━━━━━━━━━━━━━━━━━━━\u001b[0m\u001b[37m\u001b[0m \u001b[1m1s\u001b[0m 3ms/step - accuracy: 0.8658 - loss: 0.3419 - val_accuracy: 0.8500 - val_loss: 0.3428\n",
      "Epoch 39/100\n",
      "\u001b[1m200/200\u001b[0m \u001b[32m━━━━━━━━━━━━━━━━━━━━\u001b[0m\u001b[37m\u001b[0m \u001b[1m1s\u001b[0m 3ms/step - accuracy: 0.8670 - loss: 0.3257 - val_accuracy: 0.8519 - val_loss: 0.3417\n",
      "Epoch 40/100\n",
      "\u001b[1m200/200\u001b[0m \u001b[32m━━━━━━━━━━━━━━━━━━━━\u001b[0m\u001b[37m\u001b[0m \u001b[1m1s\u001b[0m 3ms/step - accuracy: 0.8659 - loss: 0.3285 - val_accuracy: 0.8481 - val_loss: 0.3414\n",
      "Epoch 41/100\n",
      "\u001b[1m200/200\u001b[0m \u001b[32m━━━━━━━━━━━━━━━━━━━━\u001b[0m\u001b[37m\u001b[0m \u001b[1m1s\u001b[0m 3ms/step - accuracy: 0.8712 - loss: 0.3186 - val_accuracy: 0.8506 - val_loss: 0.3412\n",
      "Epoch 42/100\n",
      "\u001b[1m200/200\u001b[0m \u001b[32m━━━━━━━━━━━━━━━━━━━━\u001b[0m\u001b[37m\u001b[0m \u001b[1m1s\u001b[0m 3ms/step - accuracy: 0.8647 - loss: 0.3292 - val_accuracy: 0.8506 - val_loss: 0.3414\n",
      "Epoch 43/100\n",
      "\u001b[1m200/200\u001b[0m \u001b[32m━━━━━━━━━━━━━━━━━━━━\u001b[0m\u001b[37m\u001b[0m \u001b[1m1s\u001b[0m 3ms/step - accuracy: 0.8608 - loss: 0.3339 - val_accuracy: 0.8500 - val_loss: 0.3415\n",
      "Epoch 44/100\n",
      "\u001b[1m200/200\u001b[0m \u001b[32m━━━━━━━━━━━━━━━━━━━━\u001b[0m\u001b[37m\u001b[0m \u001b[1m1s\u001b[0m 3ms/step - accuracy: 0.8642 - loss: 0.3384 - val_accuracy: 0.8525 - val_loss: 0.3419\n",
      "Epoch 45/100\n",
      "\u001b[1m200/200\u001b[0m \u001b[32m━━━━━━━━━━━━━━━━━━━━\u001b[0m\u001b[37m\u001b[0m \u001b[1m1s\u001b[0m 3ms/step - accuracy: 0.8612 - loss: 0.3354 - val_accuracy: 0.8544 - val_loss: 0.3414\n",
      "Epoch 46/100\n",
      "\u001b[1m200/200\u001b[0m \u001b[32m━━━━━━━━━━━━━━━━━━━━\u001b[0m\u001b[37m\u001b[0m \u001b[1m1s\u001b[0m 3ms/step - accuracy: 0.8604 - loss: 0.3339 - val_accuracy: 0.8481 - val_loss: 0.3430\n",
      "Epoch 47/100\n",
      "\u001b[1m200/200\u001b[0m \u001b[32m━━━━━━━━━━━━━━━━━━━━\u001b[0m\u001b[37m\u001b[0m \u001b[1m1s\u001b[0m 3ms/step - accuracy: 0.8679 - loss: 0.3251 - val_accuracy: 0.8506 - val_loss: 0.3423\n",
      "Epoch 48/100\n",
      "\u001b[1m200/200\u001b[0m \u001b[32m━━━━━━━━━━━━━━━━━━━━\u001b[0m\u001b[37m\u001b[0m \u001b[1m1s\u001b[0m 3ms/step - accuracy: 0.8732 - loss: 0.3123 - val_accuracy: 0.8512 - val_loss: 0.3430\n",
      "Epoch 49/100\n",
      "\u001b[1m200/200\u001b[0m \u001b[32m━━━━━━━━━━━━━━━━━━━━\u001b[0m\u001b[37m\u001b[0m \u001b[1m1s\u001b[0m 3ms/step - accuracy: 0.8742 - loss: 0.3080 - val_accuracy: 0.8456 - val_loss: 0.3462\n",
      "Epoch 50/100\n",
      "\u001b[1m200/200\u001b[0m \u001b[32m━━━━━━━━━━━━━━━━━━━━\u001b[0m\u001b[37m\u001b[0m \u001b[1m1s\u001b[0m 3ms/step - accuracy: 0.8696 - loss: 0.3160 - val_accuracy: 0.8475 - val_loss: 0.3439\n",
      "Epoch 51/100\n",
      "\u001b[1m200/200\u001b[0m \u001b[32m━━━━━━━━━━━━━━━━━━━━\u001b[0m\u001b[37m\u001b[0m \u001b[1m1s\u001b[0m 3ms/step - accuracy: 0.8647 - loss: 0.3300 - val_accuracy: 0.8475 - val_loss: 0.3452\n",
      "Epoch 52/100\n",
      "\u001b[1m200/200\u001b[0m \u001b[32m━━━━━━━━━━━━━━━━━━━━\u001b[0m\u001b[37m\u001b[0m \u001b[1m1s\u001b[0m 3ms/step - accuracy: 0.8702 - loss: 0.3227 - val_accuracy: 0.8519 - val_loss: 0.3415\n",
      "Epoch 53/100\n",
      "\u001b[1m200/200\u001b[0m \u001b[32m━━━━━━━━━━━━━━━━━━━━\u001b[0m\u001b[37m\u001b[0m \u001b[1m1s\u001b[0m 3ms/step - accuracy: 0.8630 - loss: 0.3273 - val_accuracy: 0.8525 - val_loss: 0.3423\n",
      "Epoch 54/100\n",
      "\u001b[1m200/200\u001b[0m \u001b[32m━━━━━━━━━━━━━━━━━━━━\u001b[0m\u001b[37m\u001b[0m \u001b[1m1s\u001b[0m 3ms/step - accuracy: 0.8676 - loss: 0.3150 - val_accuracy: 0.8512 - val_loss: 0.3428\n",
      "Epoch 55/100\n",
      "\u001b[1m200/200\u001b[0m \u001b[32m━━━━━━━━━━━━━━━━━━━━\u001b[0m\u001b[37m\u001b[0m \u001b[1m1s\u001b[0m 3ms/step - accuracy: 0.8656 - loss: 0.3278 - val_accuracy: 0.8512 - val_loss: 0.3424\n",
      "Epoch 56/100\n",
      "\u001b[1m200/200\u001b[0m \u001b[32m━━━━━━━━━━━━━━━━━━━━\u001b[0m\u001b[37m\u001b[0m \u001b[1m1s\u001b[0m 3ms/step - accuracy: 0.8667 - loss: 0.3247 - val_accuracy: 0.8462 - val_loss: 0.3443\n",
      "Epoch 57/100\n",
      "\u001b[1m200/200\u001b[0m \u001b[32m━━━━━━━━━━━━━━━━━━━━\u001b[0m\u001b[37m\u001b[0m \u001b[1m1s\u001b[0m 3ms/step - accuracy: 0.8674 - loss: 0.3217 - val_accuracy: 0.8506 - val_loss: 0.3431\n",
      "Epoch 58/100\n",
      "\u001b[1m200/200\u001b[0m \u001b[32m━━━━━━━━━━━━━━━━━━━━\u001b[0m\u001b[37m\u001b[0m \u001b[1m1s\u001b[0m 3ms/step - accuracy: 0.8647 - loss: 0.3286 - val_accuracy: 0.8481 - val_loss: 0.3429\n",
      "Epoch 59/100\n",
      "\u001b[1m200/200\u001b[0m \u001b[32m━━━━━━━━━━━━━━━━━━━━\u001b[0m\u001b[37m\u001b[0m \u001b[1m1s\u001b[0m 3ms/step - accuracy: 0.8600 - loss: 0.3326 - val_accuracy: 0.8506 - val_loss: 0.3422\n",
      "Epoch 60/100\n",
      "\u001b[1m200/200\u001b[0m \u001b[32m━━━━━━━━━━━━━━━━━━━━\u001b[0m\u001b[37m\u001b[0m \u001b[1m1s\u001b[0m 3ms/step - accuracy: 0.8523 - loss: 0.3366 - val_accuracy: 0.8487 - val_loss: 0.3436\n",
      "Epoch 61/100\n",
      "\u001b[1m200/200\u001b[0m \u001b[32m━━━━━━━━━━━━━━━━━━━━\u001b[0m\u001b[37m\u001b[0m \u001b[1m1s\u001b[0m 3ms/step - accuracy: 0.8678 - loss: 0.3211 - val_accuracy: 0.8519 - val_loss: 0.3440\n",
      "Epoch 62/100\n",
      "\u001b[1m200/200\u001b[0m \u001b[32m━━━━━━━━━━━━━━━━━━━━\u001b[0m\u001b[37m\u001b[0m \u001b[1m1s\u001b[0m 3ms/step - accuracy: 0.8716 - loss: 0.3136 - val_accuracy: 0.8525 - val_loss: 0.3426\n",
      "Epoch 63/100\n",
      "\u001b[1m200/200\u001b[0m \u001b[32m━━━━━━━━━━━━━━━━━━━━\u001b[0m\u001b[37m\u001b[0m \u001b[1m1s\u001b[0m 3ms/step - accuracy: 0.8733 - loss: 0.3143 - val_accuracy: 0.8512 - val_loss: 0.3427\n",
      "Epoch 64/100\n",
      "\u001b[1m200/200\u001b[0m \u001b[32m━━━━━━━━━━━━━━━━━━━━\u001b[0m\u001b[37m\u001b[0m \u001b[1m1s\u001b[0m 3ms/step - accuracy: 0.8635 - loss: 0.3180 - val_accuracy: 0.8475 - val_loss: 0.3466\n",
      "Epoch 65/100\n",
      "\u001b[1m200/200\u001b[0m \u001b[32m━━━━━━━━━━━━━━━━━━━━\u001b[0m\u001b[37m\u001b[0m \u001b[1m1s\u001b[0m 3ms/step - accuracy: 0.8693 - loss: 0.3254 - val_accuracy: 0.8487 - val_loss: 0.3442\n",
      "Epoch 66/100\n",
      "\u001b[1m200/200\u001b[0m \u001b[32m━━━━━━━━━━━━━━━━━━━━\u001b[0m\u001b[37m\u001b[0m \u001b[1m1s\u001b[0m 3ms/step - accuracy: 0.8649 - loss: 0.3192 - val_accuracy: 0.8500 - val_loss: 0.3443\n",
      "Epoch 67/100\n",
      "\u001b[1m200/200\u001b[0m \u001b[32m━━━━━━━━━━━━━━━━━━━━\u001b[0m\u001b[37m\u001b[0m \u001b[1m1s\u001b[0m 3ms/step - accuracy: 0.8662 - loss: 0.3225 - val_accuracy: 0.8525 - val_loss: 0.3429\n",
      "Epoch 68/100\n",
      "\u001b[1m200/200\u001b[0m \u001b[32m━━━━━━━━━━━━━━━━━━━━\u001b[0m\u001b[37m\u001b[0m \u001b[1m1s\u001b[0m 3ms/step - accuracy: 0.8709 - loss: 0.3220 - val_accuracy: 0.8494 - val_loss: 0.3425\n",
      "Epoch 69/100\n",
      "\u001b[1m200/200\u001b[0m \u001b[32m━━━━━━━━━━━━━━━━━━━━\u001b[0m\u001b[37m\u001b[0m \u001b[1m1s\u001b[0m 3ms/step - accuracy: 0.8576 - loss: 0.3321 - val_accuracy: 0.8487 - val_loss: 0.3450\n",
      "Epoch 70/100\n",
      "\u001b[1m200/200\u001b[0m \u001b[32m━━━━━━━━━━━━━━━━━━━━\u001b[0m\u001b[37m\u001b[0m \u001b[1m1s\u001b[0m 3ms/step - accuracy: 0.8682 - loss: 0.3210 - val_accuracy: 0.8500 - val_loss: 0.3430\n",
      "Epoch 71/100\n",
      "\u001b[1m200/200\u001b[0m \u001b[32m━━━━━━━━━━━━━━━━━━━━\u001b[0m\u001b[37m\u001b[0m \u001b[1m1s\u001b[0m 3ms/step - accuracy: 0.8729 - loss: 0.3048 - val_accuracy: 0.8487 - val_loss: 0.3444\n",
      "Epoch 72/100\n",
      "\u001b[1m200/200\u001b[0m \u001b[32m━━━━━━━━━━━━━━━━━━━━\u001b[0m\u001b[37m\u001b[0m \u001b[1m1s\u001b[0m 3ms/step - accuracy: 0.8640 - loss: 0.3292 - val_accuracy: 0.8525 - val_loss: 0.3424\n",
      "Epoch 73/100\n",
      "\u001b[1m200/200\u001b[0m \u001b[32m━━━━━━━━━━━━━━━━━━━━\u001b[0m\u001b[37m\u001b[0m \u001b[1m1s\u001b[0m 3ms/step - accuracy: 0.8600 - loss: 0.3329 - val_accuracy: 0.8487 - val_loss: 0.3429\n",
      "Epoch 74/100\n",
      "\u001b[1m200/200\u001b[0m \u001b[32m━━━━━━━━━━━━━━━━━━━━\u001b[0m\u001b[37m\u001b[0m \u001b[1m1s\u001b[0m 3ms/step - accuracy: 0.8650 - loss: 0.3222 - val_accuracy: 0.8487 - val_loss: 0.3437\n",
      "Epoch 75/100\n",
      "\u001b[1m200/200\u001b[0m \u001b[32m━━━━━━━━━━━━━━━━━━━━\u001b[0m\u001b[37m\u001b[0m \u001b[1m1s\u001b[0m 3ms/step - accuracy: 0.8639 - loss: 0.3246 - val_accuracy: 0.8494 - val_loss: 0.3420\n",
      "Epoch 76/100\n",
      "\u001b[1m200/200\u001b[0m \u001b[32m━━━━━━━━━━━━━━━━━━━━\u001b[0m\u001b[37m\u001b[0m \u001b[1m1s\u001b[0m 3ms/step - accuracy: 0.8671 - loss: 0.3224 - val_accuracy: 0.8475 - val_loss: 0.3420\n",
      "Epoch 77/100\n",
      "\u001b[1m200/200\u001b[0m \u001b[32m━━━━━━━━━━━━━━━━━━━━\u001b[0m\u001b[37m\u001b[0m \u001b[1m1s\u001b[0m 3ms/step - accuracy: 0.8716 - loss: 0.3167 - val_accuracy: 0.8494 - val_loss: 0.3427\n",
      "Epoch 78/100\n",
      "\u001b[1m200/200\u001b[0m \u001b[32m━━━━━━━━━━━━━━━━━━━━\u001b[0m\u001b[37m\u001b[0m \u001b[1m1s\u001b[0m 3ms/step - accuracy: 0.8702 - loss: 0.3176 - val_accuracy: 0.8494 - val_loss: 0.3428\n",
      "Epoch 79/100\n",
      "\u001b[1m200/200\u001b[0m \u001b[32m━━━━━━━━━━━━━━━━━━━━\u001b[0m\u001b[37m\u001b[0m \u001b[1m1s\u001b[0m 3ms/step - accuracy: 0.8611 - loss: 0.3289 - val_accuracy: 0.8494 - val_loss: 0.3414\n",
      "Epoch 80/100\n",
      "\u001b[1m200/200\u001b[0m \u001b[32m━━━━━━━━━━━━━━━━━━━━\u001b[0m\u001b[37m\u001b[0m \u001b[1m1s\u001b[0m 3ms/step - accuracy: 0.8608 - loss: 0.3244 - val_accuracy: 0.8506 - val_loss: 0.3433\n",
      "Epoch 81/100\n",
      "\u001b[1m200/200\u001b[0m \u001b[32m━━━━━━━━━━━━━━━━━━━━\u001b[0m\u001b[37m\u001b[0m \u001b[1m1s\u001b[0m 3ms/step - accuracy: 0.8631 - loss: 0.3237 - val_accuracy: 0.8469 - val_loss: 0.3473\n",
      "Epoch 82/100\n",
      "\u001b[1m200/200\u001b[0m \u001b[32m━━━━━━━━━━━━━━━━━━━━\u001b[0m\u001b[37m\u001b[0m \u001b[1m1s\u001b[0m 3ms/step - accuracy: 0.8685 - loss: 0.3164 - val_accuracy: 0.8506 - val_loss: 0.3407\n",
      "Epoch 83/100\n",
      "\u001b[1m200/200\u001b[0m \u001b[32m━━━━━━━━━━━━━━━━━━━━\u001b[0m\u001b[37m\u001b[0m \u001b[1m1s\u001b[0m 3ms/step - accuracy: 0.8755 - loss: 0.3051 - val_accuracy: 0.8494 - val_loss: 0.3423\n",
      "Epoch 84/100\n",
      "\u001b[1m200/200\u001b[0m \u001b[32m━━━━━━━━━━━━━━━━━━━━\u001b[0m\u001b[37m\u001b[0m \u001b[1m1s\u001b[0m 3ms/step - accuracy: 0.8640 - loss: 0.3212 - val_accuracy: 0.8500 - val_loss: 0.3428\n",
      "Epoch 85/100\n",
      "\u001b[1m200/200\u001b[0m \u001b[32m━━━━━━━━━━━━━━━━━━━━\u001b[0m\u001b[37m\u001b[0m \u001b[1m1s\u001b[0m 3ms/step - accuracy: 0.8638 - loss: 0.3259 - val_accuracy: 0.8519 - val_loss: 0.3431\n",
      "Epoch 86/100\n",
      "\u001b[1m200/200\u001b[0m \u001b[32m━━━━━━━━━━━━━━━━━━━━\u001b[0m\u001b[37m\u001b[0m \u001b[1m1s\u001b[0m 3ms/step - accuracy: 0.8673 - loss: 0.3219 - val_accuracy: 0.8481 - val_loss: 0.3430\n",
      "Epoch 87/100\n",
      "\u001b[1m200/200\u001b[0m \u001b[32m━━━━━━━━━━━━━━━━━━━━\u001b[0m\u001b[37m\u001b[0m \u001b[1m1s\u001b[0m 3ms/step - accuracy: 0.8650 - loss: 0.3281 - val_accuracy: 0.8481 - val_loss: 0.3428\n",
      "Epoch 88/100\n",
      "\u001b[1m200/200\u001b[0m \u001b[32m━━━━━━━━━━━━━━━━━━━━\u001b[0m\u001b[37m\u001b[0m \u001b[1m1s\u001b[0m 3ms/step - accuracy: 0.8753 - loss: 0.3143 - val_accuracy: 0.8500 - val_loss: 0.3422\n",
      "Epoch 89/100\n",
      "\u001b[1m200/200\u001b[0m \u001b[32m━━━━━━━━━━━━━━━━━━━━\u001b[0m\u001b[37m\u001b[0m \u001b[1m1s\u001b[0m 3ms/step - accuracy: 0.8704 - loss: 0.3199 - val_accuracy: 0.8487 - val_loss: 0.3436\n",
      "Epoch 90/100\n",
      "\u001b[1m200/200\u001b[0m \u001b[32m━━━━━━━━━━━━━━━━━━━━\u001b[0m\u001b[37m\u001b[0m \u001b[1m1s\u001b[0m 3ms/step - accuracy: 0.8652 - loss: 0.3322 - val_accuracy: 0.8494 - val_loss: 0.3405\n",
      "Epoch 91/100\n",
      "\u001b[1m200/200\u001b[0m \u001b[32m━━━━━━━━━━━━━━━━━━━━\u001b[0m\u001b[37m\u001b[0m \u001b[1m1s\u001b[0m 3ms/step - accuracy: 0.8714 - loss: 0.3127 - val_accuracy: 0.8494 - val_loss: 0.3426\n",
      "Epoch 92/100\n",
      "\u001b[1m200/200\u001b[0m \u001b[32m━━━━━━━━━━━━━━━━━━━━\u001b[0m\u001b[37m\u001b[0m \u001b[1m1s\u001b[0m 3ms/step - accuracy: 0.8595 - loss: 0.3304 - val_accuracy: 0.8506 - val_loss: 0.3400\n",
      "Epoch 93/100\n",
      "\u001b[1m200/200\u001b[0m \u001b[32m━━━━━━━━━━━━━━━━━━━━\u001b[0m\u001b[37m\u001b[0m \u001b[1m1s\u001b[0m 3ms/step - accuracy: 0.8603 - loss: 0.3310 - val_accuracy: 0.8481 - val_loss: 0.3410\n",
      "Epoch 94/100\n",
      "\u001b[1m200/200\u001b[0m \u001b[32m━━━━━━━━━━━━━━━━━━━━\u001b[0m\u001b[37m\u001b[0m \u001b[1m1s\u001b[0m 3ms/step - accuracy: 0.8720 - loss: 0.3154 - val_accuracy: 0.8512 - val_loss: 0.3403\n",
      "Epoch 95/100\n",
      "\u001b[1m200/200\u001b[0m \u001b[32m━━━━━━━━━━━━━━━━━━━━\u001b[0m\u001b[37m\u001b[0m \u001b[1m1s\u001b[0m 3ms/step - accuracy: 0.8622 - loss: 0.3267 - val_accuracy: 0.8494 - val_loss: 0.3404\n",
      "Epoch 96/100\n",
      "\u001b[1m200/200\u001b[0m \u001b[32m━━━━━━━━━━━━━━━━━━━━\u001b[0m\u001b[37m\u001b[0m \u001b[1m1s\u001b[0m 3ms/step - accuracy: 0.8691 - loss: 0.3186 - val_accuracy: 0.8481 - val_loss: 0.3411\n",
      "Epoch 97/100\n",
      "\u001b[1m200/200\u001b[0m \u001b[32m━━━━━━━━━━━━━━━━━━━━\u001b[0m\u001b[37m\u001b[0m \u001b[1m1s\u001b[0m 3ms/step - accuracy: 0.8612 - loss: 0.3199 - val_accuracy: 0.8487 - val_loss: 0.3429\n",
      "Epoch 98/100\n",
      "\u001b[1m200/200\u001b[0m \u001b[32m━━━━━━━━━━━━━━━━━━━━\u001b[0m\u001b[37m\u001b[0m \u001b[1m1s\u001b[0m 3ms/step - accuracy: 0.8739 - loss: 0.3131 - val_accuracy: 0.8481 - val_loss: 0.3401\n",
      "Epoch 99/100\n",
      "\u001b[1m200/200\u001b[0m \u001b[32m━━━━━━━━━━━━━━━━━━━━\u001b[0m\u001b[37m\u001b[0m \u001b[1m1s\u001b[0m 3ms/step - accuracy: 0.8638 - loss: 0.3232 - val_accuracy: 0.8500 - val_loss: 0.3402\n",
      "Epoch 100/100\n",
      "\u001b[1m200/200\u001b[0m \u001b[32m━━━━━━━━━━━━━━━━━━━━\u001b[0m\u001b[37m\u001b[0m \u001b[1m1s\u001b[0m 3ms/step - accuracy: 0.8645 - loss: 0.3345 - val_accuracy: 0.8494 - val_loss: 0.3387\n"
     ]
    }
   ],
   "source": [
    " history=model.fit(xtrain_scaled,ytrain,epochs=100,validation_split=0.2)"
   ]
  },
  {
   "cell_type": "code",
   "execution_count": 22,
   "id": "c86b72d0",
   "metadata": {
    "execution": {
     "iopub.execute_input": "2025-06-16T05:05:30.365801Z",
     "iopub.status.busy": "2025-06-16T05:05:30.365150Z",
     "iopub.status.idle": "2025-06-16T05:05:30.375170Z",
     "shell.execute_reply": "2025-06-16T05:05:30.374351Z"
    },
    "papermill": {
     "duration": 0.112169,
     "end_time": "2025-06-16T05:05:30.376513",
     "exception": false,
     "start_time": "2025-06-16T05:05:30.264344",
     "status": "completed"
    },
    "tags": []
   },
   "outputs": [
    {
     "data": {
      "text/plain": [
       "[array([[ 0.25119722, -0.09676799,  0.03698748,  0.38178673,  0.31595773,\n",
       "         -0.45323777,  0.42771745, -0.07373785, -0.06757468,  0.0731708 ,\n",
       "         -0.07473165],\n",
       "        [-0.06533068,  0.3007679 ,  1.1177363 ,  0.27916214,  0.01722114,\n",
       "         -0.15605356,  0.3761496 ,  0.48284903, -0.45761013,  0.84507185,\n",
       "         -0.14555131],\n",
       "        [-0.1108267 , -0.09424014,  0.09779914,  0.09161229,  0.273316  ,\n",
       "          0.032503  , -0.22224103, -0.08852301,  0.03669059, -0.00983208,\n",
       "         -0.08736646],\n",
       "        [ 0.15594946, -0.5071992 ,  0.13960518,  0.6557074 ,  0.49952337,\n",
       "          0.15060014, -0.3779843 ,  0.0876091 , -0.39042473, -0.03614759,\n",
       "         -0.37274855],\n",
       "        [-0.18059403, -0.75937366, -0.41201633,  0.6750622 ,  0.02256148,\n",
       "          0.03353395,  0.04216255,  0.929661  , -0.13023125,  0.6620259 ,\n",
       "          0.7094086 ],\n",
       "        [ 0.47330514,  0.04547184,  0.07626916, -0.08642041, -0.28827897,\n",
       "         -0.49088234, -0.46971038, -0.01628756,  0.19592191, -0.09852731,\n",
       "          0.7312002 ],\n",
       "        [ 0.27639747, -0.15117513,  0.55483013, -0.27382487,  0.7326947 ,\n",
       "         -0.2491943 , -0.12383661, -0.10577955,  0.17993411,  0.41753045,\n",
       "          0.19224687],\n",
       "        [ 0.42163032, -0.02474826,  0.21084383,  0.1600547 ,  0.5237187 ,\n",
       "         -0.16594325,  0.29864433,  0.06693806, -0.42487746,  0.08217815,\n",
       "          0.08095657],\n",
       "        [ 0.7605479 ,  0.40564728, -0.12176605,  0.29822794,  0.2756044 ,\n",
       "         -0.02419159, -0.06824227, -0.20769079,  0.11565817,  0.223323  ,\n",
       "         -0.20911784],\n",
       "        [-0.46423432, -0.00600947,  0.21139358,  0.03389903, -0.24198888,\n",
       "         -0.9790249 , -0.02515647, -0.04413573,  0.5754001 , -0.13714404,\n",
       "         -0.2146784 ],\n",
       "        [-0.13273223, -0.03547338,  0.09237733, -0.11712494,  0.48400033,\n",
       "         -0.09015273,  0.09459216, -0.06706949,  0.18472186,  0.01543341,\n",
       "          0.09927301]], dtype=float32),\n",
       " array([ 0.22797734,  0.04971353,  0.1841319 ,  0.04482884,  0.07181265,\n",
       "         0.11540966,  0.73544556, -0.67630213,  0.6065638 , -0.54196984,\n",
       "         0.68948555], dtype=float32)]"
      ]
     },
     "execution_count": 22,
     "metadata": {},
     "output_type": "execute_result"
    }
   ],
   "source": [
    "model.layers[0].get_weights()"
   ]
  },
  {
   "cell_type": "code",
   "execution_count": 23,
   "id": "49eb97dc",
   "metadata": {
    "execution": {
     "iopub.execute_input": "2025-06-16T05:05:30.467746Z",
     "iopub.status.busy": "2025-06-16T05:05:30.467468Z",
     "iopub.status.idle": "2025-06-16T05:05:30.997407Z",
     "shell.execute_reply": "2025-06-16T05:05:30.996834Z"
    },
    "papermill": {
     "duration": 0.576488,
     "end_time": "2025-06-16T05:05:30.998538",
     "exception": false,
     "start_time": "2025-06-16T05:05:30.422050",
     "status": "completed"
    },
    "tags": []
   },
   "outputs": [
    {
     "name": "stdout",
     "output_type": "stream",
     "text": [
      "\u001b[1m63/63\u001b[0m \u001b[32m━━━━━━━━━━━━━━━━━━━━\u001b[0m\u001b[37m\u001b[0m \u001b[1m0s\u001b[0m 4ms/step\n"
     ]
    }
   ],
   "source": [
    "y_log=model.predict(xtest_scaled)"
   ]
  },
  {
   "cell_type": "code",
   "execution_count": 24,
   "id": "a9284fef",
   "metadata": {
    "execution": {
     "iopub.execute_input": "2025-06-16T05:05:31.090085Z",
     "iopub.status.busy": "2025-06-16T05:05:31.089845Z",
     "iopub.status.idle": "2025-06-16T05:05:31.093496Z",
     "shell.execute_reply": "2025-06-16T05:05:31.092949Z"
    },
    "papermill": {
     "duration": 0.050234,
     "end_time": "2025-06-16T05:05:31.094583",
     "exception": false,
     "start_time": "2025-06-16T05:05:31.044349",
     "status": "completed"
    },
    "tags": []
   },
   "outputs": [],
   "source": [
    "y_pred=np.where(y_log>0.5,1,0)"
   ]
  },
  {
   "cell_type": "code",
   "execution_count": 25,
   "id": "8a52173e",
   "metadata": {
    "execution": {
     "iopub.execute_input": "2025-06-16T05:05:31.184801Z",
     "iopub.status.busy": "2025-06-16T05:05:31.184540Z",
     "iopub.status.idle": "2025-06-16T05:05:31.190708Z",
     "shell.execute_reply": "2025-06-16T05:05:31.189981Z"
    },
    "papermill": {
     "duration": 0.05227,
     "end_time": "2025-06-16T05:05:31.191857",
     "exception": false,
     "start_time": "2025-06-16T05:05:31.139587",
     "status": "completed"
    },
    "tags": []
   },
   "outputs": [
    {
     "data": {
      "text/plain": [
       "0.86"
      ]
     },
     "execution_count": 25,
     "metadata": {},
     "output_type": "execute_result"
    }
   ],
   "source": [
    "from sklearn.metrics import accuracy_score\n",
    "accuracy_score(ytest,y_pred)"
   ]
  },
  {
   "cell_type": "code",
   "execution_count": 26,
   "id": "e74f1974",
   "metadata": {
    "execution": {
     "iopub.execute_input": "2025-06-16T05:05:31.282548Z",
     "iopub.status.busy": "2025-06-16T05:05:31.282362Z",
     "iopub.status.idle": "2025-06-16T05:05:31.285283Z",
     "shell.execute_reply": "2025-06-16T05:05:31.284762Z"
    },
    "papermill": {
     "duration": 0.049773,
     "end_time": "2025-06-16T05:05:31.286289",
     "exception": false,
     "start_time": "2025-06-16T05:05:31.236516",
     "status": "completed"
    },
    "tags": []
   },
   "outputs": [],
   "source": [
    "import matplotlib.pyplot as plt"
   ]
  },
  {
   "cell_type": "code",
   "execution_count": 27,
   "id": "bfcf85d6",
   "metadata": {
    "collapsed": true,
    "execution": {
     "iopub.execute_input": "2025-06-16T05:05:31.375919Z",
     "iopub.status.busy": "2025-06-16T05:05:31.375701Z",
     "iopub.status.idle": "2025-06-16T05:05:31.381495Z",
     "shell.execute_reply": "2025-06-16T05:05:31.380946Z"
    },
    "jupyter": {
     "outputs_hidden": true
    },
    "papermill": {
     "duration": 0.051754,
     "end_time": "2025-06-16T05:05:31.382699",
     "exception": false,
     "start_time": "2025-06-16T05:05:31.330945",
     "status": "completed"
    },
    "tags": []
   },
   "outputs": [
    {
     "data": {
      "text/plain": [
       "{'accuracy': [0.7939062714576721,\n",
       "  0.7971875071525574,\n",
       "  0.7971875071525574,\n",
       "  0.8014062643051147,\n",
       "  0.8212500214576721,\n",
       "  0.8349999785423279,\n",
       "  0.8389062285423279,\n",
       "  0.8417187333106995,\n",
       "  0.844531238079071,\n",
       "  0.8501562476158142,\n",
       "  0.8535937666893005,\n",
       "  0.8557812571525574,\n",
       "  0.8592187762260437,\n",
       "  0.8573437333106995,\n",
       "  0.8579687476158142,\n",
       "  0.8612499833106995,\n",
       "  0.8604687452316284,\n",
       "  0.8606250286102295,\n",
       "  0.8598437309265137,\n",
       "  0.8598437309265137,\n",
       "  0.860156238079071,\n",
       "  0.8607812523841858,\n",
       "  0.8604687452316284,\n",
       "  0.8620312213897705,\n",
       "  0.8617187738418579,\n",
       "  0.8634374737739563,\n",
       "  0.8629687428474426,\n",
       "  0.8626562356948853,\n",
       "  0.8614062666893005,\n",
       "  0.8634374737739563,\n",
       "  0.8643749952316284,\n",
       "  0.8646875023841858,\n",
       "  0.8617187738418579,\n",
       "  0.8645312786102295,\n",
       "  0.8653125166893005,\n",
       "  0.8645312786102295,\n",
       "  0.8660937547683716,\n",
       "  0.8643749952316284,\n",
       "  0.8648437261581421,\n",
       "  0.8650000095367432,\n",
       "  0.8650000095367432,\n",
       "  0.8635937571525574,\n",
       "  0.8629687428474426,\n",
       "  0.8650000095367432,\n",
       "  0.8653125166893005,\n",
       "  0.8648437261581421,\n",
       "  0.8654687404632568,\n",
       "  0.864062488079071,\n",
       "  0.8668749928474426,\n",
       "  0.8656250238418579,\n",
       "  0.8656250238418579,\n",
       "  0.8648437261581421,\n",
       "  0.8657812476158142,\n",
       "  0.8650000095367432,\n",
       "  0.8648437261581421,\n",
       "  0.8653125166893005,\n",
       "  0.8659374713897705,\n",
       "  0.8676562309265137,\n",
       "  0.8646875023841858,\n",
       "  0.8642187714576721,\n",
       "  0.8642187714576721,\n",
       "  0.8665624856948853,\n",
       "  0.8656250238418579,\n",
       "  0.86328125,\n",
       "  0.8671875,\n",
       "  0.8645312786102295,\n",
       "  0.8645312786102295,\n",
       "  0.8656250238418579,\n",
       "  0.8643749952316284,\n",
       "  0.8650000095367432,\n",
       "  0.8642187714576721,\n",
       "  0.8648437261581421,\n",
       "  0.8656250238418579,\n",
       "  0.8657812476158142,\n",
       "  0.8650000095367432,\n",
       "  0.8662499785423279,\n",
       "  0.8657812476158142,\n",
       "  0.866406261920929,\n",
       "  0.8648437261581421,\n",
       "  0.8642187714576721,\n",
       "  0.8646875023841858,\n",
       "  0.8671875,\n",
       "  0.8665624856948853,\n",
       "  0.8659374713897705,\n",
       "  0.8645312786102295,\n",
       "  0.8673437237739563,\n",
       "  0.8654687404632568,\n",
       "  0.8668749928474426,\n",
       "  0.8665624856948853,\n",
       "  0.8671875,\n",
       "  0.8662499785423279,\n",
       "  0.8659374713897705,\n",
       "  0.8670312762260437,\n",
       "  0.8653125166893005,\n",
       "  0.8671875,\n",
       "  0.8668749928474426,\n",
       "  0.8651562333106995,\n",
       "  0.8662499785423279,\n",
       "  0.8682812452316284,\n",
       "  0.866406261920929],\n",
       " 'loss': [0.5197303295135498,\n",
       "  0.4538865387439728,\n",
       "  0.43770626187324524,\n",
       "  0.42870163917541504,\n",
       "  0.42144501209259033,\n",
       "  0.4130187928676605,\n",
       "  0.4043954610824585,\n",
       "  0.3949396014213562,\n",
       "  0.38385578989982605,\n",
       "  0.37450167536735535,\n",
       "  0.36540183424949646,\n",
       "  0.35788196325302124,\n",
       "  0.35075169801712036,\n",
       "  0.34605664014816284,\n",
       "  0.34425124526023865,\n",
       "  0.34206870198249817,\n",
       "  0.3405865728855133,\n",
       "  0.3392934799194336,\n",
       "  0.3385950028896332,\n",
       "  0.33765968680381775,\n",
       "  0.33702629804611206,\n",
       "  0.336006760597229,\n",
       "  0.3358606994152069,\n",
       "  0.3352311849594116,\n",
       "  0.33437201380729675,\n",
       "  0.33444201946258545,\n",
       "  0.3339952528476715,\n",
       "  0.3333267867565155,\n",
       "  0.33368992805480957,\n",
       "  0.332378625869751,\n",
       "  0.3322801887989044,\n",
       "  0.33187445998191833,\n",
       "  0.3313620686531067,\n",
       "  0.33129748702049255,\n",
       "  0.33084574341773987,\n",
       "  0.33089667558670044,\n",
       "  0.3303431272506714,\n",
       "  0.330178827047348,\n",
       "  0.32961228489875793,\n",
       "  0.3293989598751068,\n",
       "  0.32948416471481323,\n",
       "  0.32863059639930725,\n",
       "  0.32863494753837585,\n",
       "  0.32854682207107544,\n",
       "  0.32862386107444763,\n",
       "  0.32822877168655396,\n",
       "  0.32815688848495483,\n",
       "  0.3279639780521393,\n",
       "  0.3278583288192749,\n",
       "  0.32696986198425293,\n",
       "  0.3273191750049591,\n",
       "  0.3274041414260864,\n",
       "  0.3268914818763733,\n",
       "  0.32682257890701294,\n",
       "  0.3266952931880951,\n",
       "  0.3262002468109131,\n",
       "  0.32609879970550537,\n",
       "  0.3258613646030426,\n",
       "  0.3259989023208618,\n",
       "  0.32554876804351807,\n",
       "  0.3254478871822357,\n",
       "  0.324950248003006,\n",
       "  0.32567158341407776,\n",
       "  0.32524803280830383,\n",
       "  0.3251741826534271,\n",
       "  0.32480961084365845,\n",
       "  0.324232280254364,\n",
       "  0.3246322274208069,\n",
       "  0.3244858682155609,\n",
       "  0.3244127631187439,\n",
       "  0.32431861758232117,\n",
       "  0.3240858316421509,\n",
       "  0.32328882813453674,\n",
       "  0.32392510771751404,\n",
       "  0.32317477464675903,\n",
       "  0.32358255982398987,\n",
       "  0.32386329770088196,\n",
       "  0.3233562409877777,\n",
       "  0.323589563369751,\n",
       "  0.3230765163898468,\n",
       "  0.3225800693035126,\n",
       "  0.32304805517196655,\n",
       "  0.3233203589916229,\n",
       "  0.3224121034145355,\n",
       "  0.32241156697273254,\n",
       "  0.32299479842185974,\n",
       "  0.32214251160621643,\n",
       "  0.32239723205566406,\n",
       "  0.32217779755592346,\n",
       "  0.32221755385398865,\n",
       "  0.3218153417110443,\n",
       "  0.3225576877593994,\n",
       "  0.32187357544898987,\n",
       "  0.3222983181476593,\n",
       "  0.32160061597824097,\n",
       "  0.32189178466796875,\n",
       "  0.3216649889945984,\n",
       "  0.32129883766174316,\n",
       "  0.32112225890159607,\n",
       "  0.3214808404445648],\n",
       " 'val_accuracy': [0.7975000143051147,\n",
       "  0.7975000143051147,\n",
       "  0.7975000143051147,\n",
       "  0.8062499761581421,\n",
       "  0.8162500262260437,\n",
       "  0.8199999928474426,\n",
       "  0.8218749761581421,\n",
       "  0.8243749737739563,\n",
       "  0.8349999785423279,\n",
       "  0.8368750214576721,\n",
       "  0.84375,\n",
       "  0.8512499928474426,\n",
       "  0.8525000214576721,\n",
       "  0.8525000214576721,\n",
       "  0.8531249761581421,\n",
       "  0.8525000214576721,\n",
       "  0.8506249785423279,\n",
       "  0.8518750071525574,\n",
       "  0.8518750071525574,\n",
       "  0.8487499952316284,\n",
       "  0.8512499928474426,\n",
       "  0.8500000238418579,\n",
       "  0.8493750095367432,\n",
       "  0.8493750095367432,\n",
       "  0.8518750071525574,\n",
       "  0.8500000238418579,\n",
       "  0.8493750095367432,\n",
       "  0.8481249809265137,\n",
       "  0.8493750095367432,\n",
       "  0.8487499952316284,\n",
       "  0.8493750095367432,\n",
       "  0.8512499928474426,\n",
       "  0.8506249785423279,\n",
       "  0.8525000214576721,\n",
       "  0.8518750071525574,\n",
       "  0.8481249809265137,\n",
       "  0.8525000214576721,\n",
       "  0.8500000238418579,\n",
       "  0.8518750071525574,\n",
       "  0.8481249809265137,\n",
       "  0.8506249785423279,\n",
       "  0.8506249785423279,\n",
       "  0.8500000238418579,\n",
       "  0.8525000214576721,\n",
       "  0.8543750047683716,\n",
       "  0.8481249809265137,\n",
       "  0.8506249785423279,\n",
       "  0.8512499928474426,\n",
       "  0.8456249833106995,\n",
       "  0.8475000262260437,\n",
       "  0.8475000262260437,\n",
       "  0.8518750071525574,\n",
       "  0.8525000214576721,\n",
       "  0.8512499928474426,\n",
       "  0.8512499928474426,\n",
       "  0.8462499976158142,\n",
       "  0.8506249785423279,\n",
       "  0.8481249809265137,\n",
       "  0.8506249785423279,\n",
       "  0.8487499952316284,\n",
       "  0.8518750071525574,\n",
       "  0.8525000214576721,\n",
       "  0.8512499928474426,\n",
       "  0.8475000262260437,\n",
       "  0.8487499952316284,\n",
       "  0.8500000238418579,\n",
       "  0.8525000214576721,\n",
       "  0.8493750095367432,\n",
       "  0.8487499952316284,\n",
       "  0.8500000238418579,\n",
       "  0.8487499952316284,\n",
       "  0.8525000214576721,\n",
       "  0.8487499952316284,\n",
       "  0.8487499952316284,\n",
       "  0.8493750095367432,\n",
       "  0.8475000262260437,\n",
       "  0.8493750095367432,\n",
       "  0.8493750095367432,\n",
       "  0.8493750095367432,\n",
       "  0.8506249785423279,\n",
       "  0.846875011920929,\n",
       "  0.8506249785423279,\n",
       "  0.8493750095367432,\n",
       "  0.8500000238418579,\n",
       "  0.8518750071525574,\n",
       "  0.8481249809265137,\n",
       "  0.8481249809265137,\n",
       "  0.8500000238418579,\n",
       "  0.8487499952316284,\n",
       "  0.8493750095367432,\n",
       "  0.8493750095367432,\n",
       "  0.8506249785423279,\n",
       "  0.8481249809265137,\n",
       "  0.8512499928474426,\n",
       "  0.8493750095367432,\n",
       "  0.8481249809265137,\n",
       "  0.8487499952316284,\n",
       "  0.8481249809265137,\n",
       "  0.8500000238418579,\n",
       "  0.8493750095367432],\n",
       " 'val_loss': [0.4630037546157837,\n",
       "  0.4431922435760498,\n",
       "  0.4338719844818115,\n",
       "  0.4270358383655548,\n",
       "  0.4191291034221649,\n",
       "  0.40977296233177185,\n",
       "  0.4006136357784271,\n",
       "  0.39263206720352173,\n",
       "  0.38119181990623474,\n",
       "  0.3732689619064331,\n",
       "  0.36436089873313904,\n",
       "  0.3574977219104767,\n",
       "  0.3513931632041931,\n",
       "  0.3495984673500061,\n",
       "  0.34697285294532776,\n",
       "  0.3440239727497101,\n",
       "  0.34563571214675903,\n",
       "  0.3432365357875824,\n",
       "  0.3429226577281952,\n",
       "  0.34619879722595215,\n",
       "  0.3424757122993469,\n",
       "  0.34150221943855286,\n",
       "  0.34269142150878906,\n",
       "  0.34112128615379333,\n",
       "  0.34398987889289856,\n",
       "  0.342965304851532,\n",
       "  0.34392061829566956,\n",
       "  0.3429058790206909,\n",
       "  0.3423638641834259,\n",
       "  0.3432069420814514,\n",
       "  0.34412139654159546,\n",
       "  0.3414499759674072,\n",
       "  0.3413665294647217,\n",
       "  0.34227970242500305,\n",
       "  0.34040507674217224,\n",
       "  0.3423956632614136,\n",
       "  0.34185338020324707,\n",
       "  0.34282466769218445,\n",
       "  0.34174439311027527,\n",
       "  0.341418981552124,\n",
       "  0.3411901891231537,\n",
       "  0.3414474129676819,\n",
       "  0.34151652455329895,\n",
       "  0.3419201970100403,\n",
       "  0.3414382040500641,\n",
       "  0.3429883122444153,\n",
       "  0.3423168659210205,\n",
       "  0.3430139422416687,\n",
       "  0.34624332189559937,\n",
       "  0.34393081068992615,\n",
       "  0.3451915979385376,\n",
       "  0.34146177768707275,\n",
       "  0.3422650098800659,\n",
       "  0.3427606225013733,\n",
       "  0.3424489200115204,\n",
       "  0.34433838725090027,\n",
       "  0.34308311343193054,\n",
       "  0.34293776750564575,\n",
       "  0.3421885371208191,\n",
       "  0.3435768187046051,\n",
       "  0.3439708650112152,\n",
       "  0.34264376759529114,\n",
       "  0.3427160978317261,\n",
       "  0.34658512473106384,\n",
       "  0.34424152970314026,\n",
       "  0.34432563185691833,\n",
       "  0.3429301083087921,\n",
       "  0.34251171350479126,\n",
       "  0.3449508249759674,\n",
       "  0.34302768111228943,\n",
       "  0.34435445070266724,\n",
       "  0.3424057066440582,\n",
       "  0.34290093183517456,\n",
       "  0.3436662256717682,\n",
       "  0.34203362464904785,\n",
       "  0.3419589698314667,\n",
       "  0.3426884114742279,\n",
       "  0.34282761812210083,\n",
       "  0.3413752615451813,\n",
       "  0.3432617485523224,\n",
       "  0.34730038046836853,\n",
       "  0.34069588780403137,\n",
       "  0.34226104617118835,\n",
       "  0.3428131937980652,\n",
       "  0.34308353066444397,\n",
       "  0.34299102425575256,\n",
       "  0.342785120010376,\n",
       "  0.3422201871871948,\n",
       "  0.343587726354599,\n",
       "  0.3405136168003082,\n",
       "  0.3425837755203247,\n",
       "  0.3399932086467743,\n",
       "  0.34100931882858276,\n",
       "  0.34028807282447815,\n",
       "  0.3403838276863098,\n",
       "  0.34114837646484375,\n",
       "  0.34285518527030945,\n",
       "  0.3400573432445526,\n",
       "  0.3401661813259125,\n",
       "  0.33873802423477173]}"
      ]
     },
     "execution_count": 27,
     "metadata": {},
     "output_type": "execute_result"
    }
   ],
   "source": [
    "history.history"
   ]
  },
  {
   "cell_type": "code",
   "execution_count": 28,
   "id": "4ad4ae72",
   "metadata": {
    "execution": {
     "iopub.execute_input": "2025-06-16T05:05:31.474147Z",
     "iopub.status.busy": "2025-06-16T05:05:31.473918Z",
     "iopub.status.idle": "2025-06-16T05:05:31.682015Z",
     "shell.execute_reply": "2025-06-16T05:05:31.681323Z"
    },
    "papermill": {
     "duration": 0.254211,
     "end_time": "2025-06-16T05:05:31.683186",
     "exception": false,
     "start_time": "2025-06-16T05:05:31.428975",
     "status": "completed"
    },
    "tags": []
   },
   "outputs": [
    {
     "data": {
      "text/plain": [
       "[<matplotlib.lines.Line2D at 0x786ca1f95f50>]"
      ]
     },
     "execution_count": 28,
     "metadata": {},
     "output_type": "execute_result"
    },
    {
     "data": {
      "image/png": "[encoded data removed]",
      "text/plain": [
       "<Figure size 640x480 with 1 Axes>"
      ]
     },
     "metadata": {},
     "output_type": "display_data"
    }
   ],
   "source": [
    "plt.plot(history.history['loss'])\n",
    "plt.plot(history.history['val_loss'])"
   ]
  },
  {
   "cell_type": "code",
   "execution_count": 29,
   "id": "ff1b2718",
   "metadata": {
    "execution": {
     "iopub.execute_input": "2025-06-16T05:05:31.778622Z",
     "iopub.status.busy": "2025-06-16T05:05:31.778134Z",
     "iopub.status.idle": "2025-06-16T05:05:31.913316Z",
     "shell.execute_reply": "2025-06-16T05:05:31.912646Z"
    },
    "papermill": {
     "duration": 0.184117,
     "end_time": "2025-06-16T05:05:31.914576",
     "exception": false,
     "start_time": "2025-06-16T05:05:31.730459",
     "status": "completed"
    },
    "tags": []
   },
   "outputs": [
    {
     "data": {
      "text/plain": [
       "[<matplotlib.lines.Line2D at 0x786c9b728510>]"
      ]
     },
     "execution_count": 29,
     "metadata": {},
     "output_type": "execute_result"
    },
    {
     "data": {
      "image/png": "[encoded data removed]",
      "text/plain": [
       "<Figure size 640x480 with 1 Axes>"
      ]
     },
     "metadata": {},
     "output_type": "display_data"
    }
   ],
   "source": [
    "plt.plot(history.history['accuracy'])\n",
    "plt.plot(history.history['val_accuracy'])"
   ]
  },
  {
   "cell_type": "code",
   "execution_count": null,
   "id": "30c107a4",
   "metadata": {
    "papermill": {
     "duration": 0.046411,
     "end_time": "2025-06-16T05:05:32.008380",
     "exception": false,
     "start_time": "2025-06-16T05:05:31.961969",
     "status": "completed"
    },
    "tags": []
   },
   "outputs": [],
   "source": []
  }
 ],
 "metadata": {
  "kaggle": {
   "accelerator": "none",
   "dataSources": [
    {
     "datasetId": 869651,
     "sourceId": 1481789,
     "sourceType": "datasetVersion"
    }
   ],
   "dockerImageVersionId": 31040,
   "isGpuEnabled": false,
   "isInternetEnabled": true,
   "language": "python",
   "sourceType": "notebook"
  },
  "kernelspec": {
   "display_name": "Python 3",
   "language": "python",
   "name": "python3"
  },
  "language_info": {
   "codemirror_mode": {
    "name": "ipython",
    "version": 3
   },
   "file_extension": ".py",
   "mimetype": "text/x-python",
   "name": "python",
   "nbconvert_exporter": "python",
   "pygments_lexer": "ipython3",
   "version": "3.11.11"
  },
  "papermill": {
   "default_parameters": {},
   "duration": 86.346821,
   "end_time": "2025-06-16T05:05:35.272594",
   "environment_variables": {},
   "exception": null,
   "input_path": "__notebook__.ipynb",
   "output_path": "__notebook__.ipynb",
   "parameters": {},
   "start_time": "2025-06-16T05:04:08.925773",
   "version": "2.6.0"
  }
 },
 "nbformat": 4,
 "nbformat_minor": 5
}
